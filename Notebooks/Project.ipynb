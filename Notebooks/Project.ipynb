{
  "cells": [
    {
      "cell_type": "markdown",
      "metadata": {
        "id": "cS7h7dRKsacp"
      },
      "source": [
        "# Data Product: A Road Trip Planner with chat feature"
      ]
    },
    {
      "cell_type": "markdown",
      "metadata": {
        "id": "IfT5iSvhxzyF"
      },
      "source": [
        "# Ngrok Web Desgin Rendering\n",
        "\n"
      ]
    },
    {
      "cell_type": "code",
      "execution_count": null,
      "metadata": {
        "id": "xer9njRpx1k6",
        "colab": {
          "base_uri": "https://localhost:8080/"
        },
        "outputId": "6591b036-745e-438d-cca4-480424d72e4b"
      },
      "outputs": [
        {
          "output_type": "stream",
          "name": "stdout",
          "text": [
            "Collecting PyMySQL\n",
            "  Downloading PyMySQL-1.1.0-py3-none-any.whl (44 kB)\n",
            "\u001b[?25l     \u001b[90m━━━━━━━━━━━━━━━━━━━━━━━━━━━━━━━━━━━━━━━━\u001b[0m \u001b[32m0.0/44.8 kB\u001b[0m \u001b[31m?\u001b[0m eta \u001b[36m-:--:--\u001b[0m\r\u001b[2K     \u001b[91m━━━━━━━━━━━━━━━━━━━━━━━━━━━━━━━━━━━━\u001b[0m\u001b[91m╸\u001b[0m\u001b[90m━━━\u001b[0m \u001b[32m41.0/44.8 kB\u001b[0m \u001b[31m1.3 MB/s\u001b[0m eta \u001b[36m0:00:01\u001b[0m\r\u001b[2K     \u001b[90m━━━━━━━━━━━━━━━━━━━━━━━━━━━━━━━━━━━━━━━━\u001b[0m \u001b[32m44.8/44.8 kB\u001b[0m \u001b[31m904.8 kB/s\u001b[0m eta \u001b[36m0:00:00\u001b[0m\n",
            "\u001b[?25hRequirement already satisfied: sqlalchemy in /usr/local/lib/python3.10/dist-packages (2.0.23)\n",
            "Requirement already satisfied: flask in /usr/local/lib/python3.10/dist-packages (2.2.5)\n",
            "Collecting flask\n",
            "  Downloading flask-3.0.0-py3-none-any.whl (99 kB)\n",
            "\u001b[2K     \u001b[90m━━━━━━━━━━━━━━━━━━━━━━━━━━━━━━━━━━━━━━━━\u001b[0m \u001b[32m99.7/99.7 kB\u001b[0m \u001b[31m3.6 MB/s\u001b[0m eta \u001b[36m0:00:00\u001b[0m\n",
            "\u001b[?25hCollecting pyngrok\n",
            "  Downloading pyngrok-7.0.3-py3-none-any.whl (21 kB)\n",
            "Requirement already satisfied: geopandas in /usr/local/lib/python3.10/dist-packages (0.13.2)\n",
            "Collecting geopandas\n",
            "  Downloading geopandas-0.14.1-py3-none-any.whl (1.1 MB)\n",
            "\u001b[2K     \u001b[90m━━━━━━━━━━━━━━━━━━━━━━━━━━━━━━━━━━━━━━━━\u001b[0m \u001b[32m1.1/1.1 MB\u001b[0m \u001b[31m9.0 MB/s\u001b[0m eta \u001b[36m0:00:00\u001b[0m\n",
            "\u001b[?25hRequirement already satisfied: typing-extensions>=4.2.0 in /usr/local/lib/python3.10/dist-packages (from sqlalchemy) (4.5.0)\n",
            "Requirement already satisfied: greenlet!=0.4.17 in /usr/local/lib/python3.10/dist-packages (from sqlalchemy) (3.0.2)\n",
            "Requirement already satisfied: Werkzeug>=3.0.0 in /usr/local/lib/python3.10/dist-packages (from flask) (3.0.1)\n",
            "Requirement already satisfied: Jinja2>=3.1.2 in /usr/local/lib/python3.10/dist-packages (from flask) (3.1.2)\n",
            "Requirement already satisfied: itsdangerous>=2.1.2 in /usr/local/lib/python3.10/dist-packages (from flask) (2.1.2)\n",
            "Requirement already satisfied: click>=8.1.3 in /usr/local/lib/python3.10/dist-packages (from flask) (8.1.7)\n",
            "Collecting blinker>=1.6.2 (from flask)\n",
            "  Downloading blinker-1.7.0-py3-none-any.whl (13 kB)\n",
            "Requirement already satisfied: PyYAML in /usr/local/lib/python3.10/dist-packages (from pyngrok) (6.0.1)\n",
            "Requirement already satisfied: fiona>=1.8.21 in /usr/local/lib/python3.10/dist-packages (from geopandas) (1.9.5)\n",
            "Requirement already satisfied: packaging in /usr/local/lib/python3.10/dist-packages (from geopandas) (23.2)\n",
            "Requirement already satisfied: pandas>=1.4.0 in /usr/local/lib/python3.10/dist-packages (from geopandas) (1.5.3)\n",
            "Requirement already satisfied: pyproj>=3.3.0 in /usr/local/lib/python3.10/dist-packages (from geopandas) (3.6.1)\n",
            "Requirement already satisfied: shapely>=1.8.0 in /usr/local/lib/python3.10/dist-packages (from geopandas) (2.0.2)\n",
            "Requirement already satisfied: attrs>=19.2.0 in /usr/local/lib/python3.10/dist-packages (from fiona>=1.8.21->geopandas) (23.1.0)\n",
            "Requirement already satisfied: certifi in /usr/local/lib/python3.10/dist-packages (from fiona>=1.8.21->geopandas) (2023.11.17)\n",
            "Requirement already satisfied: click-plugins>=1.0 in /usr/local/lib/python3.10/dist-packages (from fiona>=1.8.21->geopandas) (1.1.1)\n",
            "Requirement already satisfied: cligj>=0.5 in /usr/local/lib/python3.10/dist-packages (from fiona>=1.8.21->geopandas) (0.7.2)\n",
            "Requirement already satisfied: six in /usr/local/lib/python3.10/dist-packages (from fiona>=1.8.21->geopandas) (1.16.0)\n",
            "Requirement already satisfied: setuptools in /usr/local/lib/python3.10/dist-packages (from fiona>=1.8.21->geopandas) (67.7.2)\n",
            "Requirement already satisfied: MarkupSafe>=2.0 in /usr/local/lib/python3.10/dist-packages (from Jinja2>=3.1.2->flask) (2.1.3)\n",
            "Requirement already satisfied: python-dateutil>=2.8.1 in /usr/local/lib/python3.10/dist-packages (from pandas>=1.4.0->geopandas) (2.8.2)\n",
            "Requirement already satisfied: pytz>=2020.1 in /usr/local/lib/python3.10/dist-packages (from pandas>=1.4.0->geopandas) (2023.3.post1)\n",
            "Requirement already satisfied: numpy>=1.21.0 in /usr/local/lib/python3.10/dist-packages (from pandas>=1.4.0->geopandas) (1.23.5)\n",
            "Installing collected packages: pyngrok, PyMySQL, blinker, flask, geopandas\n",
            "  Attempting uninstall: blinker\n",
            "    Found existing installation: blinker 1.4\n",
            "\u001b[31mERROR: Cannot uninstall 'blinker'. It is a distutils installed project and thus we cannot accurately determine which files belong to it which would lead to only a partial uninstall.\u001b[0m\u001b[31m\n",
            "\u001b[0m"
          ]
        }
      ],
      "source": [
        "!pip install -U PyMySQL sqlalchemy flask pyngrok geopandas"
      ]
    },
    {
      "cell_type": "code",
      "source": [
        "!sudo pip3 install -U -q PyMySQL sqlalchemy sql_magic"
      ],
      "metadata": {
        "id": "bjQmO0DRDdJd",
        "colab": {
          "base_uri": "https://localhost:8080/"
        },
        "outputId": "aaf568ec-2028-49f6-e203-181f86acbe4c"
      },
      "execution_count": null,
      "outputs": [
        {
          "output_type": "stream",
          "name": "stdout",
          "text": [
            "\u001b[2K     \u001b[90m━━━━━━━━━━━━━━━━━━━━━━━━━━━━━━━━━━━━━━━━\u001b[0m \u001b[32m1.6/1.6 MB\u001b[0m \u001b[31m7.3 MB/s\u001b[0m eta \u001b[36m0:00:00\u001b[0m\n",
            "\u001b[2K     \u001b[90m━━━━━━━━━━━━━━━━━━━━━━━━━━━━━━━━━━━━━━━\u001b[0m \u001b[32m123.4/123.4 kB\u001b[0m \u001b[31m6.8 MB/s\u001b[0m eta \u001b[36m0:00:00\u001b[0m\n",
            "\u001b[2K     \u001b[90m━━━━━━━━━━━━━━━━━━━━━━━━━━━━━━━━━━━━━━━━\u001b[0m \u001b[32m93.5/93.5 kB\u001b[0m \u001b[31m6.2 MB/s\u001b[0m eta \u001b[36m0:00:00\u001b[0m\n",
            "\u001b[?25h"
          ]
        }
      ]
    },
    {
      "cell_type": "code",
      "execution_count": null,
      "metadata": {
        "colab": {
          "base_uri": "https://localhost:8080/"
        },
        "id": "ihMhW2ygx4RU",
        "outputId": "69138741-3783-4054-8aaf-5187fd922122"
      },
      "outputs": [
        {
          "output_type": "stream",
          "name": "stdout",
          "text": [
            "Mounted at /content/drive\n"
          ]
        }
      ],
      "source": [
        "from google.colab import drive\n",
        "drive.mount('/content/drive')"
      ]
    },
    {
      "cell_type": "code",
      "execution_count": null,
      "metadata": {
        "id": "3aIpNY9SPf2j"
      },
      "outputs": [],
      "source": [
        "# For flask server\n",
        "import os\n",
        "import threading\n",
        "from flask import Flask\n",
        "from pyngrok import ngrok\n",
        "from flask import render_template, jsonify\n",
        "import base64\n",
        "from io import BytesIO\n",
        "from flask import request"
      ]
    },
    {
      "cell_type": "code",
      "execution_count": null,
      "metadata": {
        "id": "vEPwv8NCx8a6"
      },
      "outputs": [],
      "source": [
        "# Setup Flask and ngrok\n",
        "os.environ[\"FLASK_DEBUG\"] = \"true\"\n",
        "app = Flask(__name__, template_folder = '/content/drive/My Drive/website_ds',\n",
        "            static_folder='/content/drive/My Drive/website_ds/static')\n",
        "port = 5000\n",
        "\n",
        "# Open a ngrok tunnel to the HTTP server\n",
        "ngrok_authtoken = '2X01So3CN0NODSiOIGQLSIiD2FK_5iALCgqVARP9mZG8w7Rgd'\n",
        "ngrok.set_auth_token(ngrok_authtoken)\n",
        "public_url = ngrok.connect(port).public_url\n",
        "print(f\" * ngrok tunnel '{public_url}' -> 'http://127.0.0.1:{port}'\")\n",
        "\n",
        "# Update any base URLs to use the public ngrok URL\n",
        "app.config[\"BASE_URL\"] = public_url"
      ]
    },
    {
      "cell_type": "markdown",
      "metadata": {
        "id": "KkWMxlbzsrgn"
      },
      "source": [
        "### Main page\n",
        "  - Collision, Construction, Traffic Visualization on the New York Map\n",
        "  - Route finding map with a feature the users to enter thier location coordinates for travel\n",
        "  - Chat feature\n",
        "  - Combined stats (if possible)"
      ]
    },
    {
      "cell_type": "code",
      "execution_count": null,
      "metadata": {
        "id": "uyDHSuW4aCyg",
        "colab": {
          "base_uri": "https://localhost:8080/"
        },
        "outputId": "780937dc-2c4b-4376-8356-0dd0ce453415"
      },
      "outputs": [
        {
          "output_type": "stream",
          "name": "stdout",
          "text": [
            "  % Total    % Received % Xferd  Average Speed   Time    Time     Time  Current\n",
            "                                 Dload  Upload   Total   Spent    Left  Speed\n",
            "100 4370k    0 4370k    0     0  2543k      0 --:--:--  0:00:01 --:--:-- 2542k\n"
          ]
        }
      ],
      "source": [
        "!sudo pip3 install  -U -q geopandas PyMySQL sqlalchemy sql_magic osmnx\n",
        "!curl 'https://data.cityofnewyork.us/api/geospatial/cpf4-rkhq?method=export&format=GeoJSON' -o nyc-neighborhoods.geojson"
      ]
    },
    {
      "cell_type": "code",
      "source": [
        "pip install osmnx"
      ],
      "metadata": {
        "id": "kmSFHorrIkfY",
        "colab": {
          "base_uri": "https://localhost:8080/"
        },
        "outputId": "618dd5d7-c883-4107-c02d-0649bac79d8b"
      },
      "execution_count": null,
      "outputs": [
        {
          "output_type": "stream",
          "name": "stdout",
          "text": [
            "Requirement already satisfied: osmnx in /usr/local/lib/python3.10/dist-packages (1.8.0)\n",
            "Requirement already satisfied: geopandas>=0.12 in /usr/local/lib/python3.10/dist-packages (from osmnx) (0.14.1)\n",
            "Requirement already satisfied: networkx>=2.5 in /usr/local/lib/python3.10/dist-packages (from osmnx) (3.2.1)\n",
            "Requirement already satisfied: numpy>=1.20 in /usr/local/lib/python3.10/dist-packages (from osmnx) (1.23.5)\n",
            "Requirement already satisfied: pandas>=1.1 in /usr/local/lib/python3.10/dist-packages (from osmnx) (1.5.3)\n",
            "Requirement already satisfied: requests>=2.27 in /usr/local/lib/python3.10/dist-packages (from osmnx) (2.31.0)\n",
            "Requirement already satisfied: shapely>=2.0 in /usr/local/lib/python3.10/dist-packages (from osmnx) (2.0.2)\n",
            "Requirement already satisfied: fiona>=1.8.21 in /usr/local/lib/python3.10/dist-packages (from geopandas>=0.12->osmnx) (1.9.5)\n",
            "Requirement already satisfied: packaging in /usr/local/lib/python3.10/dist-packages (from geopandas>=0.12->osmnx) (23.2)\n",
            "Requirement already satisfied: pyproj>=3.3.0 in /usr/local/lib/python3.10/dist-packages (from geopandas>=0.12->osmnx) (3.6.1)\n",
            "Requirement already satisfied: python-dateutil>=2.8.1 in /usr/local/lib/python3.10/dist-packages (from pandas>=1.1->osmnx) (2.8.2)\n",
            "Requirement already satisfied: pytz>=2020.1 in /usr/local/lib/python3.10/dist-packages (from pandas>=1.1->osmnx) (2023.3.post1)\n",
            "Requirement already satisfied: charset-normalizer<4,>=2 in /usr/local/lib/python3.10/dist-packages (from requests>=2.27->osmnx) (3.3.2)\n",
            "Requirement already satisfied: idna<4,>=2.5 in /usr/local/lib/python3.10/dist-packages (from requests>=2.27->osmnx) (3.6)\n",
            "Requirement already satisfied: urllib3<3,>=1.21.1 in /usr/local/lib/python3.10/dist-packages (from requests>=2.27->osmnx) (2.0.7)\n",
            "Requirement already satisfied: certifi>=2017.4.17 in /usr/local/lib/python3.10/dist-packages (from requests>=2.27->osmnx) (2023.11.17)\n",
            "Requirement already satisfied: attrs>=19.2.0 in /usr/local/lib/python3.10/dist-packages (from fiona>=1.8.21->geopandas>=0.12->osmnx) (23.1.0)\n",
            "Requirement already satisfied: click~=8.0 in /usr/local/lib/python3.10/dist-packages (from fiona>=1.8.21->geopandas>=0.12->osmnx) (8.1.7)\n",
            "Requirement already satisfied: click-plugins>=1.0 in /usr/local/lib/python3.10/dist-packages (from fiona>=1.8.21->geopandas>=0.12->osmnx) (1.1.1)\n",
            "Requirement already satisfied: cligj>=0.5 in /usr/local/lib/python3.10/dist-packages (from fiona>=1.8.21->geopandas>=0.12->osmnx) (0.7.2)\n",
            "Requirement already satisfied: six in /usr/local/lib/python3.10/dist-packages (from fiona>=1.8.21->geopandas>=0.12->osmnx) (1.16.0)\n",
            "Requirement already satisfied: setuptools in /usr/local/lib/python3.10/dist-packages (from fiona>=1.8.21->geopandas>=0.12->osmnx) (67.7.2)\n"
          ]
        }
      ]
    },
    {
      "cell_type": "code",
      "execution_count": null,
      "metadata": {
        "id": "abxOJEJycmI-"
      },
      "outputs": [],
      "source": [
        "import osmnx as ox\n",
        "import numpy as np\n",
        "import pandas as pd\n",
        "import seaborn as sns\n",
        "import networkx as nx\n",
        "import geopandas as gpd\n",
        "import matplotlib as plt\n",
        "from sqlalchemy import text\n",
        "import matplotlib.pyplot as plt\n",
        "from shapely.geometry import Point\n",
        "from matplotlib.cm import get_cmap\n",
        "from sqlalchemy import create_engine\n",
        "\n",
        "ox.__version__\n",
        "%matplotlib inline\n",
        "%config InlineBackend.figure_format = 'retina'"
      ]
    },
    {
      "cell_type": "code",
      "execution_count": null,
      "metadata": {
        "id": "ng6O2fXijYWe"
      },
      "outputs": [],
      "source": [
        "conn_string = f\"mysql+pymysql://{'student'}:{'dwdstudent2015'}@{'db.ipeirotis.org'}/{'public'}\" #{user}:{password}@{host}/{db_name}\n",
        "engine = create_engine(conn_string)"
      ]
    },
    {
      "cell_type": "code",
      "execution_count": null,
      "metadata": {
        "id": "Wpkq33i_hbav",
        "colab": {
          "base_uri": "https://localhost:8080/"
        },
        "outputId": "81c41e5e-b79e-4bf0-efcc-03eff625552f"
      },
      "outputs": [
        {
          "output_type": "stream",
          "name": "stderr",
          "text": [
            "<ipython-input-38-676582ef698c>:22: SettingWithCopyWarning: \n",
            "A value is trying to be set on a copy of a slice from a DataFrame.\n",
            "Try using .loc[row_indexer,col_indexer] = value instead\n",
            "\n",
            "See the caveats in the documentation: https://pandas.pydata.org/pandas-docs/stable/user_guide/indexing.html#returning-a-view-versus-a-copy\n",
            "  construction_data['data_as_of'] = pd.to_datetime(construction_data['data_as_of'])\n"
          ]
        }
      ],
      "source": [
        "q1 = \"SELECT * FROM public.TeamA_Data_traffic;\"\n",
        "q2 = \"SELECT * FROM public.TeamA_Data_construction;\"\n",
        "q3 = \"SELECT * FROM public.TeamA_Data_collisions\"\n",
        "\n",
        "with engine.connect() as connection:\n",
        "  collision_data = pd.read_sql_query(text(q3), connection)\n",
        "\n",
        "with engine.connect() as connection:\n",
        "  construction_data = pd.read_sql_query(text(q2), connection)\n",
        "\n",
        "with engine.connect() as connection:\n",
        "  traffic_data = pd.read_sql_query(text(q1), connection)\n",
        "\n",
        "# include in website\n",
        "\n",
        "# deleting rows with '0' as location values (like borough)\n",
        "collision_data = collision_data[collision_data['borough'] != '0']\n",
        "construction_data = construction_data[construction_data['borough'] != '0']\n",
        "\n",
        "\n",
        "# changing construction years to 2023 (it's active data)\n",
        "construction_data['data_as_of'] = pd.to_datetime(construction_data['data_as_of'])\n",
        "construction_data['data_as_of'] = construction_data['data_as_of'].apply(lambda d: d.replace(year=2023))"
      ]
    },
    {
      "cell_type": "code",
      "source": [
        "#add borough column to traffic data\n",
        "\n",
        "import pandas as pd\n",
        "import geopandas as gpd\n",
        "from shapely.geometry import Point\n",
        "\n",
        "borough_boundaries_path = '/content/drive/My Drive/groupA_templates/new-york-city-boroughs.geojson'\n",
        "borough_boundaries = gpd.read_file(borough_boundaries_path)\n",
        "\n",
        "# creating a GeoDataFrame from traffic_data\n",
        "traffic_geo = gpd.GeoDataFrame(traffic_data, geometry=gpd.points_from_xy(traffic_data['longitude'], traffic_data['latitude']))\n",
        "\n",
        "# Spatial join to get the borough for each point\n",
        "traffic_geo_with_borough = gpd.sjoin(traffic_geo, borough_boundaries, op='within')\n",
        "\n",
        "# Add the 'borough' column to the original traffic_data DataFrame\n",
        "traffic_data['borough'] = traffic_geo_with_borough['name']"
      ],
      "metadata": {
        "id": "h60jjuVyt6xl",
        "colab": {
          "base_uri": "https://localhost:8080/"
        },
        "outputId": "3b43a513-c76d-4db9-bb02-e7ca5606f6fb"
      },
      "execution_count": null,
      "outputs": [
        {
          "output_type": "stream",
          "name": "stderr",
          "text": [
            "/usr/local/lib/python3.10/dist-packages/IPython/core/interactiveshell.py:3473: FutureWarning: The `op` parameter is deprecated and will be removed in a future release. Please use the `predicate` parameter instead.\n",
            "  if (await self.run_code(code, result,  async_=asy)):\n",
            "<ipython-input-39-7aa131617143>:14: UserWarning: CRS mismatch between the CRS of left geometries and the CRS of right geometries.\n",
            "Use `to_crs()` to reproject one of the input geometries to match the CRS of the other.\n",
            "\n",
            "Left CRS: None\n",
            "Right CRS: EPSG:4326\n",
            "\n",
            "  traffic_geo_with_borough = gpd.sjoin(traffic_geo, borough_boundaries, op='within')\n"
          ]
        }
      ]
    },
    {
      "cell_type": "code",
      "source": [
        "import pandas as pd\n",
        "import matplotlib.pyplot as plt\n",
        "import ipywidgets as widgets\n",
        "from IPython.display import display, clear_output\n",
        "\n",
        "# Correcting the borough name in construction_data\n",
        "construction_data['borough'] = construction_data['borough'].replace({'STATEN IS': 'STATEN ISLAND'})\n",
        "\n",
        "# Capitalize all borough names in traffic_data\n",
        "traffic_data['borough'] = traffic_data['borough'].str.upper()\n",
        "\n",
        "# Dropdown widgets for borough selection\n",
        "dropdown1 = widgets.Dropdown(\n",
        "    options=collision_data['borough'].unique(),\n",
        "    description='Borough 1:',\n",
        ")\n",
        "\n",
        "dropdown2 = widgets.Dropdown(\n",
        "    options=collision_data['borough'].unique(),\n",
        "    description='Borough 2:',\n",
        ")\n",
        "\n",
        "# Button to trigger the display of the graphs\n",
        "button = widgets.Button(description=\"Show Graphs\")\n",
        "\n",
        "# Function to display graphs using matplotlib\n",
        "def display_matplotlib_graphs(borough1, borough2):\n",
        "    # Clear the previous output\n",
        "    clear_output(wait=True)\n",
        "    display(dropdown1, dropdown2, button)\n",
        "\n",
        "    # Filter data for selected boroughs\n",
        "    filtered_collision_data = collision_data[collision_data['borough'].isin([borough1, borough2])]\n",
        "    filtered_construction_data = construction_data[construction_data['borough'].isin([borough1, borough2])]\n",
        "    filtered_traffic_data = traffic_data[traffic_data['borough'].isin([borough1, borough2])]\n",
        "\n",
        "    # Calculate counts for each borough\n",
        "    collision_counts = filtered_collision_data['borough'].value_counts().reindex([borough1, borough2]).fillna(0)\n",
        "    construction_counts = filtered_construction_data['borough'].value_counts().reindex([borough1, borough2]).fillna(0)\n",
        "    traffic_counts = filtered_traffic_data['borough'].value_counts().reindex([borough1, borough2]).fillna(0)\n",
        "\n",
        "    # Setting up the bar plots\n",
        "    fig, axes = plt.subplots(1, 3, figsize=(15, 4))\n",
        "\n",
        "    # Creating the bars for collision counts\n",
        "    axes[0].bar(collision_counts.index, collision_counts, color=['blue', 'orange'])\n",
        "    axes[0].set_title('Collision Counts')\n",
        "    axes[0].set_ylabel('Counts')\n",
        "    axes[0].set_xlabel('Borough')\n",
        "\n",
        "    # Creating the bars for construction counts\n",
        "    axes[1].bar(construction_counts.index, construction_counts, color=['blue', 'orange'])\n",
        "    axes[1].set_title('Construction Counts')\n",
        "    axes[1].set_ylabel('Counts')\n",
        "    axes[1].set_xlabel('Borough')\n",
        "\n",
        "    # Creating the bars for traffic counts\n",
        "    axes[2].bar(traffic_counts.index, traffic_counts, color=['blue', 'orange'])\n",
        "    axes[2].set_title('Traffic Counts')\n",
        "    axes[2].set_ylabel('Counts')\n",
        "    axes[2].set_xlabel('Borough')\n",
        "\n",
        "    # Show the plots\n",
        "    plt.tight_layout()\n",
        "    plt.show()\n",
        "\n",
        "# Function to handle button click\n",
        "def on_button_clicked(b):\n",
        "    display_matplotlib_graphs(dropdown1.value, dropdown2.value)\n",
        "\n",
        "# Link the button click to the function\n",
        "button.on_click(on_button_clicked)\n",
        "\n",
        "# Display the initial set of widgets and the button\n",
        "display(dropdown1, dropdown2, button)\n"
      ],
      "metadata": {
        "id": "J-rAFhaOrMZv"
      },
      "execution_count": null,
      "outputs": []
    },
    {
      "cell_type": "code",
      "source": [
        "import pandas as pd\n",
        "import plotly.graph_objs as go\n",
        "from plotly.subplots import make_subplots\n",
        "\n",
        "# Filter data for Brooklyn and Bronx\n",
        "filtered_collision_data = collision_data[collision_data['borough'].isin(['BROOKLYN', 'BRONX'])]\n",
        "filtered_construction_data = construction_data[construction_data['borough'].isin(['BROOKLYN', 'BRONX'])]\n",
        "\n",
        "# Check if filtered data is empty\n",
        "if filtered_collision_data.empty or filtered_construction_data.empty:\n",
        "    print(\"No data found for Brooklyn and Bronx. Please check the borough names in your dataset.\")\n",
        "else:\n",
        "    # Calculating the number of collisions per borough\n",
        "    collision_count_per_borough = filtered_collision_data['borough'].value_counts().reset_index()\n",
        "    collision_count_per_borough.columns = ['borough', 'collision_count']\n",
        "\n",
        "    # Calculating the number of construction activities per borough\n",
        "    construction_count_per_borough = filtered_construction_data['borough'].value_counts().reset_index()\n",
        "    construction_count_per_borough.columns = ['borough', 'construction_count']\n",
        "\n",
        "    # Merging the data for easier plotting\n",
        "    merged_data = pd.merge(collision_count_per_borough, construction_count_per_borough, on='borough', how='outer')\n",
        "\n",
        "    # Create a figure with Plotly\n",
        "    fig = go.Figure(data=[\n",
        "        go.Bar(name='Collision Count', x=merged_data['borough'], y=merged_data['collision_count']),\n",
        "        go.Bar(name='Construction Count', x=merged_data['borough'], y=merged_data['construction_count'])\n",
        "    ])\n",
        "\n",
        "    # Change the bar mode\n",
        "    fig.update_layout(barmode='group', title_text=\"Comparison of Collisions and Construction Activities in Brooklyn and Bronx\")\n",
        "\n",
        "    fig.show()\n"
      ],
      "metadata": {
        "id": "cuNItE8w0ijh"
      },
      "execution_count": null,
      "outputs": []
    },
    {
      "cell_type": "code",
      "source": [
        "# -------------------> Data modelling: aggregating the data for value insights"
      ],
      "metadata": {
        "id": "YyV8RXr1PqV2"
      },
      "execution_count": null,
      "outputs": []
    },
    {
      "cell_type": "code",
      "source": [
        "time_columns = traffic_data.columns[7:31]\n",
        "traffic_data[\"Average_volume\"] = traffic_data[time_columns].sum(axis=1)/24\n",
        "df1 = traffic_data.groupby(['latitude', 'longitude', 'Roadway_Name', 'Direction', 'From_St', 'To_St']).agg({\n",
        "    'Average_volume': 'mean'\n",
        "}).reset_index()\n",
        "df1.shape"
      ],
      "metadata": {
        "id": "M1TRYWkYP1HK",
        "colab": {
          "base_uri": "https://localhost:8080/"
        },
        "outputId": "87941839-fdf8-45ab-f87d-aee2b3d73620"
      },
      "execution_count": null,
      "outputs": [
        {
          "output_type": "execute_result",
          "data": {
            "text/plain": [
              "(4560, 7)"
            ]
          },
          "metadata": {},
          "execution_count": 20
        }
      ]
    },
    {
      "cell_type": "code",
      "source": [
        "df2 = construction_data.groupby([\"borough\", 'latitude', 'longitude', 'consttype', 'buildingid', 'zip_code']).agg({\n",
        "    'unique_id': 'count',\n",
        "    'award': 'mean'\n",
        "}).reset_index()\n",
        "df2.shape"
      ],
      "metadata": {
        "id": "oUJYWoUYQENh",
        "colab": {
          "base_uri": "https://localhost:8080/"
        },
        "outputId": "755c5c26-4396-4d54-c887-f3937e88d6d6"
      },
      "execution_count": null,
      "outputs": [
        {
          "output_type": "execute_result",
          "data": {
            "text/plain": [
              "(6166, 8)"
            ]
          },
          "metadata": {},
          "execution_count": 21
        }
      ]
    },
    {
      "cell_type": "code",
      "execution_count": null,
      "metadata": {
        "id": "ATKpqodOmUfl",
        "colab": {
          "base_uri": "https://localhost:8080/"
        },
        "outputId": "e537f30b-87a2-4a54-aac9-7fe1667bd12f"
      },
      "outputs": [
        {
          "output_type": "execute_result",
          "data": {
            "text/plain": [
              "(72202, 21)"
            ]
          },
          "metadata": {},
          "execution_count": 22
        }
      ],
      "source": [
        "collision_data['crash_date'] = pd.to_datetime(collision_data['crash_date'])\n",
        "filtered_crash_data_2023 = collision_data[collision_data['crash_date'].dt.year == 2021]\n",
        "filtered_crash_data_2023.shape"
      ]
    },
    {
      "cell_type": "code",
      "source": [
        "collision_data.head(2)"
      ],
      "metadata": {
        "colab": {
          "base_uri": "https://localhost:8080/",
          "height": 196
        },
        "id": "NohuQK5gL4_r",
        "outputId": "571c4733-3e87-4362-e47d-a7b2fe996238"
      },
      "execution_count": null,
      "outputs": [
        {
          "output_type": "execute_result",
          "data": {
            "text/plain": [
              "   crash_date      crash_time   borough  zip_code   latitude  longitude  \\\n",
              "0  2016-06-02 0 days 07:28:00  BROOKLYN     11210  40.633427 -73.952980   \n",
              "1  2016-06-06 0 days 14:56:00  BROOKLYN     11212  40.658183 -73.924644   \n",
              "\n",
              "   on_street_name  off_street_name  number_of_persons_injured  \\\n",
              "0  BEDFORD AVENUE    GLENWOOD ROAD                          1   \n",
              "1  EAST 91 STREET  CLARKSON AVENUE                          0   \n",
              "\n",
              "   number_of_persons_killed  ...  number_of_pedestrians_killed  \\\n",
              "0                         0  ...                             0   \n",
              "1                         0  ...                             0   \n",
              "\n",
              "   number_of_cyclist_injured  number_of_cyclist_killed  \\\n",
              "0                          0                         0   \n",
              "1                          0                         0   \n",
              "\n",
              "   number_of_motorist_injured  number_of_motorist_killed  \\\n",
              "0                           1                          0   \n",
              "1                           0                          0   \n",
              "\n",
              "   contributing_factor_vehicle_1 contributing_factor_vehicle_2 collision_id  \\\n",
              "0                    Unspecified                   Unspecified      3456194   \n",
              "1                    Unspecified                   Unspecified      3460534   \n",
              "\n",
              "   vehicle_type_code1                   vehicle_type_code2  \n",
              "0          4 dr sedan  Station Wagon/Sport Utility Vehicle  \n",
              "1          4 dr sedan                                    0  \n",
              "\n",
              "[2 rows x 21 columns]"
            ],
            "text/html": [
              "\n",
              "  <div id=\"df-8e24839b-10aa-43a1-abb5-f56e6406fc2f\" class=\"colab-df-container\">\n",
              "    <div>\n",
              "<style scoped>\n",
              "    .dataframe tbody tr th:only-of-type {\n",
              "        vertical-align: middle;\n",
              "    }\n",
              "\n",
              "    .dataframe tbody tr th {\n",
              "        vertical-align: top;\n",
              "    }\n",
              "\n",
              "    .dataframe thead th {\n",
              "        text-align: right;\n",
              "    }\n",
              "</style>\n",
              "<table border=\"1\" class=\"dataframe\">\n",
              "  <thead>\n",
              "    <tr style=\"text-align: right;\">\n",
              "      <th></th>\n",
              "      <th>crash_date</th>\n",
              "      <th>crash_time</th>\n",
              "      <th>borough</th>\n",
              "      <th>zip_code</th>\n",
              "      <th>latitude</th>\n",
              "      <th>longitude</th>\n",
              "      <th>on_street_name</th>\n",
              "      <th>off_street_name</th>\n",
              "      <th>number_of_persons_injured</th>\n",
              "      <th>number_of_persons_killed</th>\n",
              "      <th>...</th>\n",
              "      <th>number_of_pedestrians_killed</th>\n",
              "      <th>number_of_cyclist_injured</th>\n",
              "      <th>number_of_cyclist_killed</th>\n",
              "      <th>number_of_motorist_injured</th>\n",
              "      <th>number_of_motorist_killed</th>\n",
              "      <th>contributing_factor_vehicle_1</th>\n",
              "      <th>contributing_factor_vehicle_2</th>\n",
              "      <th>collision_id</th>\n",
              "      <th>vehicle_type_code1</th>\n",
              "      <th>vehicle_type_code2</th>\n",
              "    </tr>\n",
              "  </thead>\n",
              "  <tbody>\n",
              "    <tr>\n",
              "      <th>0</th>\n",
              "      <td>2016-06-02</td>\n",
              "      <td>0 days 07:28:00</td>\n",
              "      <td>BROOKLYN</td>\n",
              "      <td>11210</td>\n",
              "      <td>40.633427</td>\n",
              "      <td>-73.952980</td>\n",
              "      <td>BEDFORD AVENUE</td>\n",
              "      <td>GLENWOOD ROAD</td>\n",
              "      <td>1</td>\n",
              "      <td>0</td>\n",
              "      <td>...</td>\n",
              "      <td>0</td>\n",
              "      <td>0</td>\n",
              "      <td>0</td>\n",
              "      <td>1</td>\n",
              "      <td>0</td>\n",
              "      <td>Unspecified</td>\n",
              "      <td>Unspecified</td>\n",
              "      <td>3456194</td>\n",
              "      <td>4 dr sedan</td>\n",
              "      <td>Station Wagon/Sport Utility Vehicle</td>\n",
              "    </tr>\n",
              "    <tr>\n",
              "      <th>1</th>\n",
              "      <td>2016-06-06</td>\n",
              "      <td>0 days 14:56:00</td>\n",
              "      <td>BROOKLYN</td>\n",
              "      <td>11212</td>\n",
              "      <td>40.658183</td>\n",
              "      <td>-73.924644</td>\n",
              "      <td>EAST 91 STREET</td>\n",
              "      <td>CLARKSON AVENUE</td>\n",
              "      <td>0</td>\n",
              "      <td>0</td>\n",
              "      <td>...</td>\n",
              "      <td>0</td>\n",
              "      <td>0</td>\n",
              "      <td>0</td>\n",
              "      <td>0</td>\n",
              "      <td>0</td>\n",
              "      <td>Unspecified</td>\n",
              "      <td>Unspecified</td>\n",
              "      <td>3460534</td>\n",
              "      <td>4 dr sedan</td>\n",
              "      <td>0</td>\n",
              "    </tr>\n",
              "  </tbody>\n",
              "</table>\n",
              "<p>2 rows × 21 columns</p>\n",
              "</div>\n",
              "    <div class=\"colab-df-buttons\">\n",
              "\n",
              "  <div class=\"colab-df-container\">\n",
              "    <button class=\"colab-df-convert\" onclick=\"convertToInteractive('df-8e24839b-10aa-43a1-abb5-f56e6406fc2f')\"\n",
              "            title=\"Convert this dataframe to an interactive table.\"\n",
              "            style=\"display:none;\">\n",
              "\n",
              "  <svg xmlns=\"http://www.w3.org/2000/svg\" height=\"24px\" viewBox=\"0 -960 960 960\">\n",
              "    <path d=\"M120-120v-720h720v720H120Zm60-500h600v-160H180v160Zm220 220h160v-160H400v160Zm0 220h160v-160H400v160ZM180-400h160v-160H180v160Zm440 0h160v-160H620v160ZM180-180h160v-160H180v160Zm440 0h160v-160H620v160Z\"/>\n",
              "  </svg>\n",
              "    </button>\n",
              "\n",
              "  <style>\n",
              "    .colab-df-container {\n",
              "      display:flex;\n",
              "      gap: 12px;\n",
              "    }\n",
              "\n",
              "    .colab-df-convert {\n",
              "      background-color: #E8F0FE;\n",
              "      border: none;\n",
              "      border-radius: 50%;\n",
              "      cursor: pointer;\n",
              "      display: none;\n",
              "      fill: #1967D2;\n",
              "      height: 32px;\n",
              "      padding: 0 0 0 0;\n",
              "      width: 32px;\n",
              "    }\n",
              "\n",
              "    .colab-df-convert:hover {\n",
              "      background-color: #E2EBFA;\n",
              "      box-shadow: 0px 1px 2px rgba(60, 64, 67, 0.3), 0px 1px 3px 1px rgba(60, 64, 67, 0.15);\n",
              "      fill: #174EA6;\n",
              "    }\n",
              "\n",
              "    .colab-df-buttons div {\n",
              "      margin-bottom: 4px;\n",
              "    }\n",
              "\n",
              "    [theme=dark] .colab-df-convert {\n",
              "      background-color: #3B4455;\n",
              "      fill: #D2E3FC;\n",
              "    }\n",
              "\n",
              "    [theme=dark] .colab-df-convert:hover {\n",
              "      background-color: #434B5C;\n",
              "      box-shadow: 0px 1px 3px 1px rgba(0, 0, 0, 0.15);\n",
              "      filter: drop-shadow(0px 1px 2px rgba(0, 0, 0, 0.3));\n",
              "      fill: #FFFFFF;\n",
              "    }\n",
              "  </style>\n",
              "\n",
              "    <script>\n",
              "      const buttonEl =\n",
              "        document.querySelector('#df-8e24839b-10aa-43a1-abb5-f56e6406fc2f button.colab-df-convert');\n",
              "      buttonEl.style.display =\n",
              "        google.colab.kernel.accessAllowed ? 'block' : 'none';\n",
              "\n",
              "      async function convertToInteractive(key) {\n",
              "        const element = document.querySelector('#df-8e24839b-10aa-43a1-abb5-f56e6406fc2f');\n",
              "        const dataTable =\n",
              "          await google.colab.kernel.invokeFunction('convertToInteractive',\n",
              "                                                    [key], {});\n",
              "        if (!dataTable) return;\n",
              "\n",
              "        const docLinkHtml = 'Like what you see? Visit the ' +\n",
              "          '<a target=\"_blank\" href=https://colab.research.google.com/notebooks/data_table.ipynb>data table notebook</a>'\n",
              "          + ' to learn more about interactive tables.';\n",
              "        element.innerHTML = '';\n",
              "        dataTable['output_type'] = 'display_data';\n",
              "        await google.colab.output.renderOutput(dataTable, element);\n",
              "        const docLink = document.createElement('div');\n",
              "        docLink.innerHTML = docLinkHtml;\n",
              "        element.appendChild(docLink);\n",
              "      }\n",
              "    </script>\n",
              "  </div>\n",
              "\n",
              "\n",
              "<div id=\"df-4be05d9f-c0e6-4876-8f7b-887808b5e5f1\">\n",
              "  <button class=\"colab-df-quickchart\" onclick=\"quickchart('df-4be05d9f-c0e6-4876-8f7b-887808b5e5f1')\"\n",
              "            title=\"Suggest charts\"\n",
              "            style=\"display:none;\">\n",
              "\n",
              "<svg xmlns=\"http://www.w3.org/2000/svg\" height=\"24px\"viewBox=\"0 0 24 24\"\n",
              "     width=\"24px\">\n",
              "    <g>\n",
              "        <path d=\"M19 3H5c-1.1 0-2 .9-2 2v14c0 1.1.9 2 2 2h14c1.1 0 2-.9 2-2V5c0-1.1-.9-2-2-2zM9 17H7v-7h2v7zm4 0h-2V7h2v10zm4 0h-2v-4h2v4z\"/>\n",
              "    </g>\n",
              "</svg>\n",
              "  </button>\n",
              "\n",
              "<style>\n",
              "  .colab-df-quickchart {\n",
              "      --bg-color: #E8F0FE;\n",
              "      --fill-color: #1967D2;\n",
              "      --hover-bg-color: #E2EBFA;\n",
              "      --hover-fill-color: #174EA6;\n",
              "      --disabled-fill-color: #AAA;\n",
              "      --disabled-bg-color: #DDD;\n",
              "  }\n",
              "\n",
              "  [theme=dark] .colab-df-quickchart {\n",
              "      --bg-color: #3B4455;\n",
              "      --fill-color: #D2E3FC;\n",
              "      --hover-bg-color: #434B5C;\n",
              "      --hover-fill-color: #FFFFFF;\n",
              "      --disabled-bg-color: #3B4455;\n",
              "      --disabled-fill-color: #666;\n",
              "  }\n",
              "\n",
              "  .colab-df-quickchart {\n",
              "    background-color: var(--bg-color);\n",
              "    border: none;\n",
              "    border-radius: 50%;\n",
              "    cursor: pointer;\n",
              "    display: none;\n",
              "    fill: var(--fill-color);\n",
              "    height: 32px;\n",
              "    padding: 0;\n",
              "    width: 32px;\n",
              "  }\n",
              "\n",
              "  .colab-df-quickchart:hover {\n",
              "    background-color: var(--hover-bg-color);\n",
              "    box-shadow: 0 1px 2px rgba(60, 64, 67, 0.3), 0 1px 3px 1px rgba(60, 64, 67, 0.15);\n",
              "    fill: var(--button-hover-fill-color);\n",
              "  }\n",
              "\n",
              "  .colab-df-quickchart-complete:disabled,\n",
              "  .colab-df-quickchart-complete:disabled:hover {\n",
              "    background-color: var(--disabled-bg-color);\n",
              "    fill: var(--disabled-fill-color);\n",
              "    box-shadow: none;\n",
              "  }\n",
              "\n",
              "  .colab-df-spinner {\n",
              "    border: 2px solid var(--fill-color);\n",
              "    border-color: transparent;\n",
              "    border-bottom-color: var(--fill-color);\n",
              "    animation:\n",
              "      spin 1s steps(1) infinite;\n",
              "  }\n",
              "\n",
              "  @keyframes spin {\n",
              "    0% {\n",
              "      border-color: transparent;\n",
              "      border-bottom-color: var(--fill-color);\n",
              "      border-left-color: var(--fill-color);\n",
              "    }\n",
              "    20% {\n",
              "      border-color: transparent;\n",
              "      border-left-color: var(--fill-color);\n",
              "      border-top-color: var(--fill-color);\n",
              "    }\n",
              "    30% {\n",
              "      border-color: transparent;\n",
              "      border-left-color: var(--fill-color);\n",
              "      border-top-color: var(--fill-color);\n",
              "      border-right-color: var(--fill-color);\n",
              "    }\n",
              "    40% {\n",
              "      border-color: transparent;\n",
              "      border-right-color: var(--fill-color);\n",
              "      border-top-color: var(--fill-color);\n",
              "    }\n",
              "    60% {\n",
              "      border-color: transparent;\n",
              "      border-right-color: var(--fill-color);\n",
              "    }\n",
              "    80% {\n",
              "      border-color: transparent;\n",
              "      border-right-color: var(--fill-color);\n",
              "      border-bottom-color: var(--fill-color);\n",
              "    }\n",
              "    90% {\n",
              "      border-color: transparent;\n",
              "      border-bottom-color: var(--fill-color);\n",
              "    }\n",
              "  }\n",
              "</style>\n",
              "\n",
              "  <script>\n",
              "    async function quickchart(key) {\n",
              "      const quickchartButtonEl =\n",
              "        document.querySelector('#' + key + ' button');\n",
              "      quickchartButtonEl.disabled = true;  // To prevent multiple clicks.\n",
              "      quickchartButtonEl.classList.add('colab-df-spinner');\n",
              "      try {\n",
              "        const charts = await google.colab.kernel.invokeFunction(\n",
              "            'suggestCharts', [key], {});\n",
              "      } catch (error) {\n",
              "        console.error('Error during call to suggestCharts:', error);\n",
              "      }\n",
              "      quickchartButtonEl.classList.remove('colab-df-spinner');\n",
              "      quickchartButtonEl.classList.add('colab-df-quickchart-complete');\n",
              "    }\n",
              "    (() => {\n",
              "      let quickchartButtonEl =\n",
              "        document.querySelector('#df-4be05d9f-c0e6-4876-8f7b-887808b5e5f1 button');\n",
              "      quickchartButtonEl.style.display =\n",
              "        google.colab.kernel.accessAllowed ? 'block' : 'none';\n",
              "    })();\n",
              "  </script>\n",
              "</div>\n",
              "    </div>\n",
              "  </div>\n"
            ]
          },
          "metadata": {},
          "execution_count": 53
        }
      ]
    },
    {
      "cell_type": "code",
      "source": [
        "filtered_crash_data_2023 = filtered_crash_data_2023.dropna()\n",
        "aggregated_df = filtered_crash_data_2023.groupby(['borough','latitude', 'longitude']).agg({\n",
        "    'number_of_persons_injured': 'mean',\n",
        "    'number_of_persons_killed': 'mean',\n",
        "    'number_of_cyclist_injured': 'mean',\n",
        "    'number_of_cyclist_killed': 'mean',\n",
        "    'number_of_motorist_injured': 'mean',\n",
        "    'number_of_motorist_killed': 'mean'\n",
        "}).reset_index()\n",
        "aggregated_df['total_casualties'] = aggregated_df[['number_of_persons_injured', 'number_of_persons_killed',\n",
        "                                                   'number_of_cyclist_injured', 'number_of_cyclist_killed',\n",
        "                                                   'number_of_motorist_injured', 'number_of_motorist_killed']].sum(axis=1)\n",
        "collision_data = aggregated_df[['borough','latitude','longitude','total_casualties']]"
      ],
      "metadata": {
        "id": "yELQSAdgS7mG"
      },
      "execution_count": null,
      "outputs": []
    },
    {
      "cell_type": "code",
      "source": [
        "import pandas as pd\n",
        "from sklearn.cluster import KMeans\n",
        "\n",
        "def clustering(df, n, str_agg):\n",
        "  selected_features = df[['latitude', 'longitude']]\n",
        "  selected_features = selected_features.dropna()\n",
        "\n",
        "  kmeans = KMeans(n_clusters=n, random_state=42)\n",
        "  df['cluster'] = kmeans.fit_predict(selected_features)\n",
        "\n",
        "  # Compute cluster centers\n",
        "  cluster_centers = pd.DataFrame(kmeans.cluster_centers_, columns=['latitude', 'longitude'])\n",
        "  df['cluster'] = kmeans.predict(selected_features)\n",
        "\n",
        "  cluster_statistics = df.groupby('cluster').agg({\n",
        "      str_agg: 'mean',\n",
        "      'borough': lambda x: x.mode().iloc[0]\n",
        "  }).reset_index()\n",
        "\n",
        "  # Merge cluster_centers with cluster_statistics\n",
        "  cluster_info = pd.merge(cluster_centers, cluster_statistics, left_index=True, right_on='cluster')\n",
        "  df = cluster_info[['latitude', 'longitude', str_agg, 'borough']]\n",
        "  df = df[(df['latitude'] != 0.000000) & (df['longitude'] != 0.000000)].reset_index(drop=True)\n",
        "\n",
        "  return df\n",
        "\n",
        "df3 = clustering(df, 1000, \"total_casualties\")\n"
      ],
      "metadata": {
        "id": "OQ-zDA9rTAcJ",
        "colab": {
          "base_uri": "https://localhost:8080/"
        },
        "outputId": "680f0651-4128-4463-c187-aff5d08d65ec"
      },
      "execution_count": null,
      "outputs": [
        {
          "output_type": "stream",
          "name": "stderr",
          "text": [
            "/usr/local/lib/python3.10/dist-packages/sklearn/cluster/_kmeans.py:870: FutureWarning: The default value of `n_init` will change from 10 to 'auto' in 1.4. Set the value of `n_init` explicitly to suppress the warning\n",
            "  warnings.warn(\n",
            "<ipython-input-24-931757e68c11>:9: SettingWithCopyWarning: \n",
            "A value is trying to be set on a copy of a slice from a DataFrame.\n",
            "Try using .loc[row_indexer,col_indexer] = value instead\n",
            "\n",
            "See the caveats in the documentation: https://pandas.pydata.org/pandas-docs/stable/user_guide/indexing.html#returning-a-view-versus-a-copy\n",
            "  df['cluster'] = kmeans.fit_predict(selected_features)\n",
            "<ipython-input-24-931757e68c11>:13: SettingWithCopyWarning: \n",
            "A value is trying to be set on a copy of a slice from a DataFrame.\n",
            "Try using .loc[row_indexer,col_indexer] = value instead\n",
            "\n",
            "See the caveats in the documentation: https://pandas.pydata.org/pandas-docs/stable/user_guide/indexing.html#returning-a-view-versus-a-copy\n",
            "  df['cluster'] = kmeans.predict(selected_features)\n"
          ]
        }
      ]
    },
    {
      "cell_type": "code",
      "source": [
        "#------->graphing"
      ],
      "metadata": {
        "id": "1p-KTLpCaf3S"
      },
      "execution_count": null,
      "outputs": []
    },
    {
      "cell_type": "code",
      "execution_count": null,
      "metadata": {
        "id": "zUQ_8a0J1rL3"
      },
      "outputs": [],
      "source": [
        "traffic_gdf = gpd.GeoDataFrame(df1, geometry=gpd.points_from_xy(df1['longitude'], df1['latitude']))\n",
        "construction_gdf = gpd.GeoDataFrame(df2, geometry=gpd.points_from_xy(df2['longitude'], df2['latitude']))\n",
        "collision_gdf = gpd.GeoDataFrame(df3, geometry=gpd.points_from_xy(df3['longitude'], df3['latitude']))"
      ]
    },
    {
      "cell_type": "code",
      "source": [
        "G = ox.graph_from_place(\"New York, USA\", network_type=\"drive\")"
      ],
      "metadata": {
        "id": "abtat-KxFDCd"
      },
      "execution_count": null,
      "outputs": []
    },
    {
      "cell_type": "code",
      "source": [
        "plt.figure(figsize=(50, 50))\n",
        "\n",
        "# Visualize the street network\n",
        "ox.plot_graph(G, node_size=0, edge_color='w', edge_linewidth=0.5, bgcolor='k', show=False)\n",
        "\n",
        "# Plot construction and collision locations with different markers and colors\n",
        "plt.scatter(traffic_gdf.geometry.x, traffic_gdf.geometry.y, color='red', s=30, marker='o', label='Traffic')\n",
        "plt.scatter(construction_gdf.geometry.x, construction_gdf.geometry.y, color='cyan', s=30, marker='s', label='Construction')\n",
        "plt.scatter(collision_gdf.geometry.x, collision_gdf.geometry.y, color='orange', s=30, marker='x', label='Collision')\n",
        "\n",
        "plt.title('Street Network of New York City with Construction, Collision and Traffic Locations')\n",
        "plt.legend()\n",
        "plt.show()\n",
        "\n",
        "# Save the figure to a BytesIO buffer\n",
        "# buf = BytesIO()\n",
        "# plt.savefig(buf, format=\"png\")\n",
        "# all_fig = base64.b64encode(buf.getvalue()).decode(\"ascii\")"
      ],
      "metadata": {
        "id": "ZV8nftz4a1Ut"
      },
      "execution_count": null,
      "outputs": []
    },
    {
      "cell_type": "code",
      "source": [
        "# include in website\n",
        "\n",
        "import folium\n",
        "from folium.plugins import FastMarkerCluster\n",
        "import random\n",
        "\n",
        "def plot_collision_on_map(data1, data2, data3, sample_size=None):\n",
        "    \"\"\"Visualize collision data on a map using folium.\"\"\"\n",
        "\n",
        "    # Filter NaN values before the loop\n",
        "    data1 = data1.dropna(subset=['longitude', 'latitude'])\n",
        "    data2 = data2.dropna(subset=['longitude', 'latitude'])\n",
        "    data3 = data3.dropna(subset=['longitude', 'latitude'])\n",
        "\n",
        "    m = folium.Map(location=[40.7128, -74.0060], titles='Visualization for Construction, Collisions and Traffic', zoom_start=20)\n",
        "\n",
        "    # Create FastMarkerClusters for each data category\n",
        "    collisions_cluster = FastMarkerCluster([], name='Vehicle Collisions').add_to(m)\n",
        "    construction_cluster = FastMarkerCluster([], name='Construction Projects').add_to(m)\n",
        "    traffic_cluster = FastMarkerCluster([], name='Traffic Projects').add_to(m)\n",
        "\n",
        "    # Function to add markers to clusters\n",
        "    def add_marker_to_cluster(row, cluster, color):\n",
        "        folium.CircleMarker(\n",
        "            location=[row['latitude'], row['longitude']],\n",
        "            radius=5,\n",
        "            color=color,\n",
        "            fill=True,\n",
        "            fill_color=color,\n",
        "            fill_opacity=0.6\n",
        "        ).add_to(cluster)\n",
        "\n",
        "    # Sample data if specified\n",
        "    if sample_size:\n",
        "        data1 = data1.sample(n=min(sample_size, len(data1)))\n",
        "        data2 = data2.sample(n=min(sample_size, len(data2)))\n",
        "        data3 = data3.sample(n=min(sample_size, len(data3)))\n",
        "\n",
        "    # Apply the function to add markers to clusters\n",
        "    data1.apply(lambda row: add_marker_to_cluster(row, collisions_cluster, 'red'), axis=1)\n",
        "    data2.apply(lambda row: add_marker_to_cluster(row, construction_cluster, 'blue'), axis=1)\n",
        "    data3.apply(lambda row: add_marker_to_cluster(row, traffic_cluster, 'green'), axis=1)\n",
        "\n",
        "    # Add marker clusters to the map\n",
        "    folium.LayerControl().add_to(m)\n",
        "    return m\n",
        "map_object = plot_collision_on_map(df3, df2, df1, 1000)\n",
        "map_object.save('map_with_route.html')\n",
        "map_object"
      ],
      "metadata": {
        "id": "NQXW8g67bWSl"
      },
      "execution_count": null,
      "outputs": []
    },
    {
      "cell_type": "code",
      "execution_count": null,
      "metadata": {
        "id": "GiJbvUluPGX6"
      },
      "outputs": [],
      "source": [
        "import folium\n",
        "def plot_collision_on_map(data1, data2, data3):\n",
        "    \"\"\"Visualize collision data on a map using folium.\"\"\"\n",
        "\n",
        "    data1 = data1.dropna(subset=['longitude', 'latitude'])\n",
        "    data2 = data2.dropna(subset=['longitude', 'latitude'])\n",
        "    data3 = data3.dropna(subset=['longitude', 'latitude'])\n",
        "    m = folium.Map(location=[40.7128, -74.0060], titles='Visualization for Construction, Collisions and Traffic', zoom_start=20)\n",
        "\n",
        "    # Create feature groups for each data category\n",
        "    collisions_group = folium.FeatureGroup(name='Vehicle Collisions')\n",
        "    construction_group = folium.FeatureGroup(name='Construction Projects')\n",
        "    traffic_group = folium.FeatureGroup(name='Traffic Projects')\n",
        "\n",
        "    for _, row in data1.iterrows():\n",
        "      folium.CircleMarker(\n",
        "          location=[row['latitude'], row['longitude']],\n",
        "          radius=5,\n",
        "          color='red',\n",
        "          fill=True,\n",
        "          fill_color='red',\n",
        "          fill_opacity=0.6\n",
        "      ).add_to(collisions_group)\n",
        "\n",
        "    for _, row in data2.iterrows():\n",
        "      folium.CircleMarker(\n",
        "          location=[row['latitude'], row['longitude']],\n",
        "          radius=5,\n",
        "          color='blue',\n",
        "          fill=True,\n",
        "          fill_color='blue',\n",
        "          fill_opacity=0.6\n",
        "      ).add_to(construction_group)\n",
        "\n",
        "    for _, row in data3.iterrows():\n",
        "      folium.CircleMarker(\n",
        "          location=[row['latitude'], row['longitude']],\n",
        "          radius=5,\n",
        "          color='green',\n",
        "          fill=True,\n",
        "          fill_color='green',\n",
        "          fill_opacity=0.6\n",
        "      ).add_to(traffic_group)\n",
        "\n",
        "    collisions_group.add_to(m)\n",
        "    construction_group.add_to(m)\n",
        "    traffic_group.add_to(m)\n",
        "\n",
        "    folium.LayerControl().add_to(m)\n",
        "    return m\n",
        "\n",
        "map_object = plot_collision_on_map(df3, df2, df1)\n",
        "map_object"
      ]
    },
    {
      "cell_type": "code",
      "source": [
        "min = df1[\"Average_volume\"].min()\n",
        "max = df1[\"Average_volume\"].max()\n",
        "range = max - min\n",
        "df1[\"Average_volume\"] = ((df1[\"Average_volume\"] - min)/range)*100\n",
        "borough_boundaries_path = '/content/drive/My Drive/groupA_templates/new-york-city-boroughs.geojson'\n",
        "borough_boundaries = gpd.read_file(borough_boundaries_path)\n",
        "traffic_geo = gpd.GeoDataFrame(df1, geometry=gpd.points_from_xy(df1['longitude'], df1['latitude']))\n",
        "traffic_geo_with_borough = gpd.sjoin(traffic_geo, borough_boundaries, op='within')\n",
        "df1['borough'] = traffic_geo_with_borough['name']\n",
        "df1 = df1[df1['borough'] == \"Manhattan\"]\n",
        "df1 = clustering(df1, 50, \"Average_volume\")\n",
        "df1.head(5)"
      ],
      "metadata": {
        "id": "irDdNVbRetsi",
        "colab": {
          "base_uri": "https://localhost:8080/",
          "height": 637
        },
        "outputId": "2a009c15-3844-47bc-a088-e33c81c000cf"
      },
      "execution_count": null,
      "outputs": [
        {
          "output_type": "stream",
          "name": "stderr",
          "text": [
            "/usr/local/lib/python3.10/dist-packages/IPython/core/interactiveshell.py:3473: FutureWarning: The `op` parameter is deprecated and will be removed in a future release. Please use the `predicate` parameter instead.\n",
            "  if (await self.run_code(code, result,  async_=asy)):\n",
            "<ipython-input-26-bdcbac7fbc67>:8: UserWarning: CRS mismatch between the CRS of left geometries and the CRS of right geometries.\n",
            "Use `to_crs()` to reproject one of the input geometries to match the CRS of the other.\n",
            "\n",
            "Left CRS: None\n",
            "Right CRS: EPSG:4326\n",
            "\n",
            "  traffic_geo_with_borough = gpd.sjoin(traffic_geo, borough_boundaries, op='within')\n",
            "/usr/local/lib/python3.10/dist-packages/sklearn/cluster/_kmeans.py:870: FutureWarning: The default value of `n_init` will change from 10 to 'auto' in 1.4. Set the value of `n_init` explicitly to suppress the warning\n",
            "  warnings.warn(\n",
            "<ipython-input-24-931757e68c11>:9: SettingWithCopyWarning: \n",
            "A value is trying to be set on a copy of a slice from a DataFrame.\n",
            "Try using .loc[row_indexer,col_indexer] = value instead\n",
            "\n",
            "See the caveats in the documentation: https://pandas.pydata.org/pandas-docs/stable/user_guide/indexing.html#returning-a-view-versus-a-copy\n",
            "  df['cluster'] = kmeans.fit_predict(selected_features)\n",
            "<ipython-input-24-931757e68c11>:13: SettingWithCopyWarning: \n",
            "A value is trying to be set on a copy of a slice from a DataFrame.\n",
            "Try using .loc[row_indexer,col_indexer] = value instead\n",
            "\n",
            "See the caveats in the documentation: https://pandas.pydata.org/pandas-docs/stable/user_guide/indexing.html#returning-a-view-versus-a-copy\n",
            "  df['cluster'] = kmeans.predict(selected_features)\n"
          ]
        },
        {
          "output_type": "execute_result",
          "data": {
            "text/plain": [
              "    latitude  longitude  Average_volume    borough\n",
              "0  40.771149 -73.957749       15.731237  Manhattan\n",
              "1  40.723243 -73.994129        8.564283  Manhattan\n",
              "2  40.837923 -73.938841        5.381680  Manhattan\n",
              "3  40.755528 -73.976743       17.059121  Manhattan\n",
              "4  40.807723 -73.954700        4.117170  Manhattan"
            ],
            "text/html": [
              "\n",
              "  <div id=\"df-1ff2c0f5-f113-4055-9939-e0bcbd1abd51\" class=\"colab-df-container\">\n",
              "    <div>\n",
              "<style scoped>\n",
              "    .dataframe tbody tr th:only-of-type {\n",
              "        vertical-align: middle;\n",
              "    }\n",
              "\n",
              "    .dataframe tbody tr th {\n",
              "        vertical-align: top;\n",
              "    }\n",
              "\n",
              "    .dataframe thead th {\n",
              "        text-align: right;\n",
              "    }\n",
              "</style>\n",
              "<table border=\"1\" class=\"dataframe\">\n",
              "  <thead>\n",
              "    <tr style=\"text-align: right;\">\n",
              "      <th></th>\n",
              "      <th>latitude</th>\n",
              "      <th>longitude</th>\n",
              "      <th>Average_volume</th>\n",
              "      <th>borough</th>\n",
              "    </tr>\n",
              "  </thead>\n",
              "  <tbody>\n",
              "    <tr>\n",
              "      <th>0</th>\n",
              "      <td>40.771149</td>\n",
              "      <td>-73.957749</td>\n",
              "      <td>15.731237</td>\n",
              "      <td>Manhattan</td>\n",
              "    </tr>\n",
              "    <tr>\n",
              "      <th>1</th>\n",
              "      <td>40.723243</td>\n",
              "      <td>-73.994129</td>\n",
              "      <td>8.564283</td>\n",
              "      <td>Manhattan</td>\n",
              "    </tr>\n",
              "    <tr>\n",
              "      <th>2</th>\n",
              "      <td>40.837923</td>\n",
              "      <td>-73.938841</td>\n",
              "      <td>5.381680</td>\n",
              "      <td>Manhattan</td>\n",
              "    </tr>\n",
              "    <tr>\n",
              "      <th>3</th>\n",
              "      <td>40.755528</td>\n",
              "      <td>-73.976743</td>\n",
              "      <td>17.059121</td>\n",
              "      <td>Manhattan</td>\n",
              "    </tr>\n",
              "    <tr>\n",
              "      <th>4</th>\n",
              "      <td>40.807723</td>\n",
              "      <td>-73.954700</td>\n",
              "      <td>4.117170</td>\n",
              "      <td>Manhattan</td>\n",
              "    </tr>\n",
              "  </tbody>\n",
              "</table>\n",
              "</div>\n",
              "    <div class=\"colab-df-buttons\">\n",
              "\n",
              "  <div class=\"colab-df-container\">\n",
              "    <button class=\"colab-df-convert\" onclick=\"convertToInteractive('df-1ff2c0f5-f113-4055-9939-e0bcbd1abd51')\"\n",
              "            title=\"Convert this dataframe to an interactive table.\"\n",
              "            style=\"display:none;\">\n",
              "\n",
              "  <svg xmlns=\"http://www.w3.org/2000/svg\" height=\"24px\" viewBox=\"0 -960 960 960\">\n",
              "    <path d=\"M120-120v-720h720v720H120Zm60-500h600v-160H180v160Zm220 220h160v-160H400v160Zm0 220h160v-160H400v160ZM180-400h160v-160H180v160Zm440 0h160v-160H620v160ZM180-180h160v-160H180v160Zm440 0h160v-160H620v160Z\"/>\n",
              "  </svg>\n",
              "    </button>\n",
              "\n",
              "  <style>\n",
              "    .colab-df-container {\n",
              "      display:flex;\n",
              "      gap: 12px;\n",
              "    }\n",
              "\n",
              "    .colab-df-convert {\n",
              "      background-color: #E8F0FE;\n",
              "      border: none;\n",
              "      border-radius: 50%;\n",
              "      cursor: pointer;\n",
              "      display: none;\n",
              "      fill: #1967D2;\n",
              "      height: 32px;\n",
              "      padding: 0 0 0 0;\n",
              "      width: 32px;\n",
              "    }\n",
              "\n",
              "    .colab-df-convert:hover {\n",
              "      background-color: #E2EBFA;\n",
              "      box-shadow: 0px 1px 2px rgba(60, 64, 67, 0.3), 0px 1px 3px 1px rgba(60, 64, 67, 0.15);\n",
              "      fill: #174EA6;\n",
              "    }\n",
              "\n",
              "    .colab-df-buttons div {\n",
              "      margin-bottom: 4px;\n",
              "    }\n",
              "\n",
              "    [theme=dark] .colab-df-convert {\n",
              "      background-color: #3B4455;\n",
              "      fill: #D2E3FC;\n",
              "    }\n",
              "\n",
              "    [theme=dark] .colab-df-convert:hover {\n",
              "      background-color: #434B5C;\n",
              "      box-shadow: 0px 1px 3px 1px rgba(0, 0, 0, 0.15);\n",
              "      filter: drop-shadow(0px 1px 2px rgba(0, 0, 0, 0.3));\n",
              "      fill: #FFFFFF;\n",
              "    }\n",
              "  </style>\n",
              "\n",
              "    <script>\n",
              "      const buttonEl =\n",
              "        document.querySelector('#df-1ff2c0f5-f113-4055-9939-e0bcbd1abd51 button.colab-df-convert');\n",
              "      buttonEl.style.display =\n",
              "        google.colab.kernel.accessAllowed ? 'block' : 'none';\n",
              "\n",
              "      async function convertToInteractive(key) {\n",
              "        const element = document.querySelector('#df-1ff2c0f5-f113-4055-9939-e0bcbd1abd51');\n",
              "        const dataTable =\n",
              "          await google.colab.kernel.invokeFunction('convertToInteractive',\n",
              "                                                    [key], {});\n",
              "        if (!dataTable) return;\n",
              "\n",
              "        const docLinkHtml = 'Like what you see? Visit the ' +\n",
              "          '<a target=\"_blank\" href=https://colab.research.google.com/notebooks/data_table.ipynb>data table notebook</a>'\n",
              "          + ' to learn more about interactive tables.';\n",
              "        element.innerHTML = '';\n",
              "        dataTable['output_type'] = 'display_data';\n",
              "        await google.colab.output.renderOutput(dataTable, element);\n",
              "        const docLink = document.createElement('div');\n",
              "        docLink.innerHTML = docLinkHtml;\n",
              "        element.appendChild(docLink);\n",
              "      }\n",
              "    </script>\n",
              "  </div>\n",
              "\n",
              "\n",
              "<div id=\"df-fd2ca078-82d7-47c5-9b5a-445e8023f4c2\">\n",
              "  <button class=\"colab-df-quickchart\" onclick=\"quickchart('df-fd2ca078-82d7-47c5-9b5a-445e8023f4c2')\"\n",
              "            title=\"Suggest charts\"\n",
              "            style=\"display:none;\">\n",
              "\n",
              "<svg xmlns=\"http://www.w3.org/2000/svg\" height=\"24px\"viewBox=\"0 0 24 24\"\n",
              "     width=\"24px\">\n",
              "    <g>\n",
              "        <path d=\"M19 3H5c-1.1 0-2 .9-2 2v14c0 1.1.9 2 2 2h14c1.1 0 2-.9 2-2V5c0-1.1-.9-2-2-2zM9 17H7v-7h2v7zm4 0h-2V7h2v10zm4 0h-2v-4h2v4z\"/>\n",
              "    </g>\n",
              "</svg>\n",
              "  </button>\n",
              "\n",
              "<style>\n",
              "  .colab-df-quickchart {\n",
              "      --bg-color: #E8F0FE;\n",
              "      --fill-color: #1967D2;\n",
              "      --hover-bg-color: #E2EBFA;\n",
              "      --hover-fill-color: #174EA6;\n",
              "      --disabled-fill-color: #AAA;\n",
              "      --disabled-bg-color: #DDD;\n",
              "  }\n",
              "\n",
              "  [theme=dark] .colab-df-quickchart {\n",
              "      --bg-color: #3B4455;\n",
              "      --fill-color: #D2E3FC;\n",
              "      --hover-bg-color: #434B5C;\n",
              "      --hover-fill-color: #FFFFFF;\n",
              "      --disabled-bg-color: #3B4455;\n",
              "      --disabled-fill-color: #666;\n",
              "  }\n",
              "\n",
              "  .colab-df-quickchart {\n",
              "    background-color: var(--bg-color);\n",
              "    border: none;\n",
              "    border-radius: 50%;\n",
              "    cursor: pointer;\n",
              "    display: none;\n",
              "    fill: var(--fill-color);\n",
              "    height: 32px;\n",
              "    padding: 0;\n",
              "    width: 32px;\n",
              "  }\n",
              "\n",
              "  .colab-df-quickchart:hover {\n",
              "    background-color: var(--hover-bg-color);\n",
              "    box-shadow: 0 1px 2px rgba(60, 64, 67, 0.3), 0 1px 3px 1px rgba(60, 64, 67, 0.15);\n",
              "    fill: var(--button-hover-fill-color);\n",
              "  }\n",
              "\n",
              "  .colab-df-quickchart-complete:disabled,\n",
              "  .colab-df-quickchart-complete:disabled:hover {\n",
              "    background-color: var(--disabled-bg-color);\n",
              "    fill: var(--disabled-fill-color);\n",
              "    box-shadow: none;\n",
              "  }\n",
              "\n",
              "  .colab-df-spinner {\n",
              "    border: 2px solid var(--fill-color);\n",
              "    border-color: transparent;\n",
              "    border-bottom-color: var(--fill-color);\n",
              "    animation:\n",
              "      spin 1s steps(1) infinite;\n",
              "  }\n",
              "\n",
              "  @keyframes spin {\n",
              "    0% {\n",
              "      border-color: transparent;\n",
              "      border-bottom-color: var(--fill-color);\n",
              "      border-left-color: var(--fill-color);\n",
              "    }\n",
              "    20% {\n",
              "      border-color: transparent;\n",
              "      border-left-color: var(--fill-color);\n",
              "      border-top-color: var(--fill-color);\n",
              "    }\n",
              "    30% {\n",
              "      border-color: transparent;\n",
              "      border-left-color: var(--fill-color);\n",
              "      border-top-color: var(--fill-color);\n",
              "      border-right-color: var(--fill-color);\n",
              "    }\n",
              "    40% {\n",
              "      border-color: transparent;\n",
              "      border-right-color: var(--fill-color);\n",
              "      border-top-color: var(--fill-color);\n",
              "    }\n",
              "    60% {\n",
              "      border-color: transparent;\n",
              "      border-right-color: var(--fill-color);\n",
              "    }\n",
              "    80% {\n",
              "      border-color: transparent;\n",
              "      border-right-color: var(--fill-color);\n",
              "      border-bottom-color: var(--fill-color);\n",
              "    }\n",
              "    90% {\n",
              "      border-color: transparent;\n",
              "      border-bottom-color: var(--fill-color);\n",
              "    }\n",
              "  }\n",
              "</style>\n",
              "\n",
              "  <script>\n",
              "    async function quickchart(key) {\n",
              "      const quickchartButtonEl =\n",
              "        document.querySelector('#' + key + ' button');\n",
              "      quickchartButtonEl.disabled = true;  // To prevent multiple clicks.\n",
              "      quickchartButtonEl.classList.add('colab-df-spinner');\n",
              "      try {\n",
              "        const charts = await google.colab.kernel.invokeFunction(\n",
              "            'suggestCharts', [key], {});\n",
              "      } catch (error) {\n",
              "        console.error('Error during call to suggestCharts:', error);\n",
              "      }\n",
              "      quickchartButtonEl.classList.remove('colab-df-spinner');\n",
              "      quickchartButtonEl.classList.add('colab-df-quickchart-complete');\n",
              "    }\n",
              "    (() => {\n",
              "      let quickchartButtonEl =\n",
              "        document.querySelector('#df-fd2ca078-82d7-47c5-9b5a-445e8023f4c2 button');\n",
              "      quickchartButtonEl.style.display =\n",
              "        google.colab.kernel.accessAllowed ? 'block' : 'none';\n",
              "    })();\n",
              "  </script>\n",
              "</div>\n",
              "    </div>\n",
              "  </div>\n"
            ]
          },
          "metadata": {},
          "execution_count": 26
        }
      ]
    },
    {
      "cell_type": "code",
      "source": [
        "df2 = df2[df2['borough'] == \"MANHATTAN\"]\n",
        "df2 = clustering(df2, 50, \"award\")\n",
        "df2.shape"
      ],
      "metadata": {
        "id": "mPviVXGwexpr",
        "colab": {
          "base_uri": "https://localhost:8080/"
        },
        "outputId": "3414aeb9-adfd-422e-c6c2-a65dde875f91"
      },
      "execution_count": null,
      "outputs": [
        {
          "output_type": "stream",
          "name": "stderr",
          "text": [
            "/usr/local/lib/python3.10/dist-packages/sklearn/cluster/_kmeans.py:870: FutureWarning: The default value of `n_init` will change from 10 to 'auto' in 1.4. Set the value of `n_init` explicitly to suppress the warning\n",
            "  warnings.warn(\n"
          ]
        },
        {
          "output_type": "execute_result",
          "data": {
            "text/plain": [
              "(50, 4)"
            ]
          },
          "metadata": {},
          "execution_count": 27
        }
      ]
    },
    {
      "cell_type": "code",
      "source": [
        "min = df3[\"total_casualties\"].min()\n",
        "max = df3[\"total_casualties\"].max()\n",
        "range = max - min\n",
        "df3[\"total_casualties\"] = ((df3[\"total_casualties\"] - min)/range)*100\n",
        "df3 = df3[df3['borough'] == \"MANHATTAN\"]\n",
        "df3 = clustering(df3, 50, \"total_casualties\")\n",
        "df3.shape"
      ],
      "metadata": {
        "id": "f_RV0c7oe4Fp",
        "colab": {
          "base_uri": "https://localhost:8080/"
        },
        "outputId": "a779a9a7-95f5-4a6f-cd2a-b1a8b6765570"
      },
      "execution_count": null,
      "outputs": [
        {
          "output_type": "stream",
          "name": "stderr",
          "text": [
            "/usr/local/lib/python3.10/dist-packages/sklearn/cluster/_kmeans.py:870: FutureWarning: The default value of `n_init` will change from 10 to 'auto' in 1.4. Set the value of `n_init` explicitly to suppress the warning\n",
            "  warnings.warn(\n"
          ]
        },
        {
          "output_type": "execute_result",
          "data": {
            "text/plain": [
              "(50, 4)"
            ]
          },
          "metadata": {},
          "execution_count": 28
        }
      ]
    },
    {
      "cell_type": "code",
      "source": [
        "#--------------------> Routing\n",
        "# guys please do not run the hiden code that is for adding weights to the graph\n",
        "# keeping the code here for professor's reference"
      ],
      "metadata": {
        "id": "h9r3smMDhA8x"
      },
      "execution_count": null,
      "outputs": []
    },
    {
      "cell_type": "code",
      "source": [
        "# @title\n",
        "# Convert latitude and longitude columns to numeric type\n",
        "df['latitude'] = pd.to_numeric(traffic_data['latitude'])\n",
        "traffic_data['longitude'] = pd.to_numeric(traffic_data['longitude'])\n",
        "\n",
        "construction_data['latitude'] = pd.to_numeric(construction_data['latitude'])\n",
        "construction_data['longitude'] = pd.to_numeric(construction_data['longitude'])\n",
        "\n",
        "collision_data['latitude'] = pd.to_numeric(collision_data['latitude'])\n",
        "collision_data['longitude'] = pd.to_numeric(collision_data['longitude'])"
      ],
      "metadata": {
        "id": "cGGQlMt9l2IX",
        "colab": {
          "base_uri": "https://localhost:8080/"
        },
        "outputId": "ead854b8-2a71-413d-e9e5-73c6d47e9f59"
      },
      "execution_count": null,
      "outputs": [
        {
          "output_type": "stream",
          "name": "stderr",
          "text": [
            "<ipython-input-29-5f69f75863df>:3: SettingWithCopyWarning: \n",
            "A value is trying to be set on a copy of a slice from a DataFrame.\n",
            "Try using .loc[row_indexer,col_indexer] = value instead\n",
            "\n",
            "See the caveats in the documentation: https://pandas.pydata.org/pandas-docs/stable/user_guide/indexing.html#returning-a-view-versus-a-copy\n",
            "  df['latitude'] = pd.to_numeric(traffic_data['latitude'])\n"
          ]
        }
      ]
    },
    {
      "cell_type": "code",
      "source": [
        "# @title\n",
        "df1 = df1.dropna(subset=['longitude', 'latitude']) #traffic\n",
        "df2 = df2.dropna(subset=['longitude', 'latitude']) #construction\n",
        "df3 = df3.dropna(subset=['longitude', 'latitude']) #collision"
      ],
      "metadata": {
        "id": "Zk1cHu6Pb-l6"
      },
      "execution_count": null,
      "outputs": []
    },
    {
      "cell_type": "code",
      "source": [
        "df1.head(2)"
      ],
      "metadata": {
        "id": "X_nMtr09s0zH",
        "outputId": "4447b263-f0db-49e9-a51e-9c0a0ccbcc35",
        "colab": {
          "base_uri": "https://localhost:8080/",
          "height": 112
        }
      },
      "execution_count": null,
      "outputs": [
        {
          "output_type": "execute_result",
          "data": {
            "text/plain": [
              "    latitude  longitude  Average_volume    borough\n",
              "0  40.771149 -73.957749       15.731237  Manhattan\n",
              "1  40.723243 -73.994129        8.564283  Manhattan"
            ],
            "text/html": [
              "\n",
              "  <div id=\"df-c5c61ca8-b6c1-4d49-8dba-f623110d716f\" class=\"colab-df-container\">\n",
              "    <div>\n",
              "<style scoped>\n",
              "    .dataframe tbody tr th:only-of-type {\n",
              "        vertical-align: middle;\n",
              "    }\n",
              "\n",
              "    .dataframe tbody tr th {\n",
              "        vertical-align: top;\n",
              "    }\n",
              "\n",
              "    .dataframe thead th {\n",
              "        text-align: right;\n",
              "    }\n",
              "</style>\n",
              "<table border=\"1\" class=\"dataframe\">\n",
              "  <thead>\n",
              "    <tr style=\"text-align: right;\">\n",
              "      <th></th>\n",
              "      <th>latitude</th>\n",
              "      <th>longitude</th>\n",
              "      <th>Average_volume</th>\n",
              "      <th>borough</th>\n",
              "    </tr>\n",
              "  </thead>\n",
              "  <tbody>\n",
              "    <tr>\n",
              "      <th>0</th>\n",
              "      <td>40.771149</td>\n",
              "      <td>-73.957749</td>\n",
              "      <td>15.731237</td>\n",
              "      <td>Manhattan</td>\n",
              "    </tr>\n",
              "    <tr>\n",
              "      <th>1</th>\n",
              "      <td>40.723243</td>\n",
              "      <td>-73.994129</td>\n",
              "      <td>8.564283</td>\n",
              "      <td>Manhattan</td>\n",
              "    </tr>\n",
              "  </tbody>\n",
              "</table>\n",
              "</div>\n",
              "    <div class=\"colab-df-buttons\">\n",
              "\n",
              "  <div class=\"colab-df-container\">\n",
              "    <button class=\"colab-df-convert\" onclick=\"convertToInteractive('df-c5c61ca8-b6c1-4d49-8dba-f623110d716f')\"\n",
              "            title=\"Convert this dataframe to an interactive table.\"\n",
              "            style=\"display:none;\">\n",
              "\n",
              "  <svg xmlns=\"http://www.w3.org/2000/svg\" height=\"24px\" viewBox=\"0 -960 960 960\">\n",
              "    <path d=\"M120-120v-720h720v720H120Zm60-500h600v-160H180v160Zm220 220h160v-160H400v160Zm0 220h160v-160H400v160ZM180-400h160v-160H180v160Zm440 0h160v-160H620v160ZM180-180h160v-160H180v160Zm440 0h160v-160H620v160Z\"/>\n",
              "  </svg>\n",
              "    </button>\n",
              "\n",
              "  <style>\n",
              "    .colab-df-container {\n",
              "      display:flex;\n",
              "      gap: 12px;\n",
              "    }\n",
              "\n",
              "    .colab-df-convert {\n",
              "      background-color: #E8F0FE;\n",
              "      border: none;\n",
              "      border-radius: 50%;\n",
              "      cursor: pointer;\n",
              "      display: none;\n",
              "      fill: #1967D2;\n",
              "      height: 32px;\n",
              "      padding: 0 0 0 0;\n",
              "      width: 32px;\n",
              "    }\n",
              "\n",
              "    .colab-df-convert:hover {\n",
              "      background-color: #E2EBFA;\n",
              "      box-shadow: 0px 1px 2px rgba(60, 64, 67, 0.3), 0px 1px 3px 1px rgba(60, 64, 67, 0.15);\n",
              "      fill: #174EA6;\n",
              "    }\n",
              "\n",
              "    .colab-df-buttons div {\n",
              "      margin-bottom: 4px;\n",
              "    }\n",
              "\n",
              "    [theme=dark] .colab-df-convert {\n",
              "      background-color: #3B4455;\n",
              "      fill: #D2E3FC;\n",
              "    }\n",
              "\n",
              "    [theme=dark] .colab-df-convert:hover {\n",
              "      background-color: #434B5C;\n",
              "      box-shadow: 0px 1px 3px 1px rgba(0, 0, 0, 0.15);\n",
              "      filter: drop-shadow(0px 1px 2px rgba(0, 0, 0, 0.3));\n",
              "      fill: #FFFFFF;\n",
              "    }\n",
              "  </style>\n",
              "\n",
              "    <script>\n",
              "      const buttonEl =\n",
              "        document.querySelector('#df-c5c61ca8-b6c1-4d49-8dba-f623110d716f button.colab-df-convert');\n",
              "      buttonEl.style.display =\n",
              "        google.colab.kernel.accessAllowed ? 'block' : 'none';\n",
              "\n",
              "      async function convertToInteractive(key) {\n",
              "        const element = document.querySelector('#df-c5c61ca8-b6c1-4d49-8dba-f623110d716f');\n",
              "        const dataTable =\n",
              "          await google.colab.kernel.invokeFunction('convertToInteractive',\n",
              "                                                    [key], {});\n",
              "        if (!dataTable) return;\n",
              "\n",
              "        const docLinkHtml = 'Like what you see? Visit the ' +\n",
              "          '<a target=\"_blank\" href=https://colab.research.google.com/notebooks/data_table.ipynb>data table notebook</a>'\n",
              "          + ' to learn more about interactive tables.';\n",
              "        element.innerHTML = '';\n",
              "        dataTable['output_type'] = 'display_data';\n",
              "        await google.colab.output.renderOutput(dataTable, element);\n",
              "        const docLink = document.createElement('div');\n",
              "        docLink.innerHTML = docLinkHtml;\n",
              "        element.appendChild(docLink);\n",
              "      }\n",
              "    </script>\n",
              "  </div>\n",
              "\n",
              "\n",
              "<div id=\"df-1206f5c6-fc5d-4d81-bb89-427b531e0dce\">\n",
              "  <button class=\"colab-df-quickchart\" onclick=\"quickchart('df-1206f5c6-fc5d-4d81-bb89-427b531e0dce')\"\n",
              "            title=\"Suggest charts\"\n",
              "            style=\"display:none;\">\n",
              "\n",
              "<svg xmlns=\"http://www.w3.org/2000/svg\" height=\"24px\"viewBox=\"0 0 24 24\"\n",
              "     width=\"24px\">\n",
              "    <g>\n",
              "        <path d=\"M19 3H5c-1.1 0-2 .9-2 2v14c0 1.1.9 2 2 2h14c1.1 0 2-.9 2-2V5c0-1.1-.9-2-2-2zM9 17H7v-7h2v7zm4 0h-2V7h2v10zm4 0h-2v-4h2v4z\"/>\n",
              "    </g>\n",
              "</svg>\n",
              "  </button>\n",
              "\n",
              "<style>\n",
              "  .colab-df-quickchart {\n",
              "      --bg-color: #E8F0FE;\n",
              "      --fill-color: #1967D2;\n",
              "      --hover-bg-color: #E2EBFA;\n",
              "      --hover-fill-color: #174EA6;\n",
              "      --disabled-fill-color: #AAA;\n",
              "      --disabled-bg-color: #DDD;\n",
              "  }\n",
              "\n",
              "  [theme=dark] .colab-df-quickchart {\n",
              "      --bg-color: #3B4455;\n",
              "      --fill-color: #D2E3FC;\n",
              "      --hover-bg-color: #434B5C;\n",
              "      --hover-fill-color: #FFFFFF;\n",
              "      --disabled-bg-color: #3B4455;\n",
              "      --disabled-fill-color: #666;\n",
              "  }\n",
              "\n",
              "  .colab-df-quickchart {\n",
              "    background-color: var(--bg-color);\n",
              "    border: none;\n",
              "    border-radius: 50%;\n",
              "    cursor: pointer;\n",
              "    display: none;\n",
              "    fill: var(--fill-color);\n",
              "    height: 32px;\n",
              "    padding: 0;\n",
              "    width: 32px;\n",
              "  }\n",
              "\n",
              "  .colab-df-quickchart:hover {\n",
              "    background-color: var(--hover-bg-color);\n",
              "    box-shadow: 0 1px 2px rgba(60, 64, 67, 0.3), 0 1px 3px 1px rgba(60, 64, 67, 0.15);\n",
              "    fill: var(--button-hover-fill-color);\n",
              "  }\n",
              "\n",
              "  .colab-df-quickchart-complete:disabled,\n",
              "  .colab-df-quickchart-complete:disabled:hover {\n",
              "    background-color: var(--disabled-bg-color);\n",
              "    fill: var(--disabled-fill-color);\n",
              "    box-shadow: none;\n",
              "  }\n",
              "\n",
              "  .colab-df-spinner {\n",
              "    border: 2px solid var(--fill-color);\n",
              "    border-color: transparent;\n",
              "    border-bottom-color: var(--fill-color);\n",
              "    animation:\n",
              "      spin 1s steps(1) infinite;\n",
              "  }\n",
              "\n",
              "  @keyframes spin {\n",
              "    0% {\n",
              "      border-color: transparent;\n",
              "      border-bottom-color: var(--fill-color);\n",
              "      border-left-color: var(--fill-color);\n",
              "    }\n",
              "    20% {\n",
              "      border-color: transparent;\n",
              "      border-left-color: var(--fill-color);\n",
              "      border-top-color: var(--fill-color);\n",
              "    }\n",
              "    30% {\n",
              "      border-color: transparent;\n",
              "      border-left-color: var(--fill-color);\n",
              "      border-top-color: var(--fill-color);\n",
              "      border-right-color: var(--fill-color);\n",
              "    }\n",
              "    40% {\n",
              "      border-color: transparent;\n",
              "      border-right-color: var(--fill-color);\n",
              "      border-top-color: var(--fill-color);\n",
              "    }\n",
              "    60% {\n",
              "      border-color: transparent;\n",
              "      border-right-color: var(--fill-color);\n",
              "    }\n",
              "    80% {\n",
              "      border-color: transparent;\n",
              "      border-right-color: var(--fill-color);\n",
              "      border-bottom-color: var(--fill-color);\n",
              "    }\n",
              "    90% {\n",
              "      border-color: transparent;\n",
              "      border-bottom-color: var(--fill-color);\n",
              "    }\n",
              "  }\n",
              "</style>\n",
              "\n",
              "  <script>\n",
              "    async function quickchart(key) {\n",
              "      const quickchartButtonEl =\n",
              "        document.querySelector('#' + key + ' button');\n",
              "      quickchartButtonEl.disabled = true;  // To prevent multiple clicks.\n",
              "      quickchartButtonEl.classList.add('colab-df-spinner');\n",
              "      try {\n",
              "        const charts = await google.colab.kernel.invokeFunction(\n",
              "            'suggestCharts', [key], {});\n",
              "      } catch (error) {\n",
              "        console.error('Error during call to suggestCharts:', error);\n",
              "      }\n",
              "      quickchartButtonEl.classList.remove('colab-df-spinner');\n",
              "      quickchartButtonEl.classList.add('colab-df-quickchart-complete');\n",
              "    }\n",
              "    (() => {\n",
              "      let quickchartButtonEl =\n",
              "        document.querySelector('#df-1206f5c6-fc5d-4d81-bb89-427b531e0dce button');\n",
              "      quickchartButtonEl.style.display =\n",
              "        google.colab.kernel.accessAllowed ? 'block' : 'none';\n",
              "    })();\n",
              "  </script>\n",
              "</div>\n",
              "    </div>\n",
              "  </div>\n"
            ]
          },
          "metadata": {},
          "execution_count": 32
        }
      ]
    },
    {
      "cell_type": "code",
      "source": [
        "#--------------\n",
        "df1.to_csv(\"/content/drive/MyDrive/website_ds/traffic_clustered.csv\")\n",
        "df2.to_csv(\"/content/drive/MyDrive/website_ds/construction_clustered.csv\")\n",
        "df3.to_csv(\"/content/drive/MyDrive/website_ds/collision_clustered.csv\")"
      ],
      "metadata": {
        "id": "lf7wgTNDrtcQ"
      },
      "execution_count": null,
      "outputs": []
    },
    {
      "cell_type": "code",
      "source": [
        "# @title\n",
        "for i, row in df1.iterrows():\n",
        "    vertices = ox.distance.nearest_edges(G, row['longitude'], row['latitude'])\n",
        "    u = vertices[0]\n",
        "    v = vertices[1]\n",
        "    edge = G[u][v][0]\n",
        "    edge['weight'] = row['Average_volume']\n",
        "    print(f\"done------>{i}\")"
      ],
      "metadata": {
        "id": "wloUidan6_1_"
      },
      "execution_count": null,
      "outputs": []
    },
    {
      "cell_type": "code",
      "source": [
        "# @title\n",
        "for i, row in df2.iterrows():\n",
        "    vertices = ox.distance.nearest_edges(G, row['longitude'], row['latitude'])\n",
        "    u = vertices[0]\n",
        "    v = vertices[1]\n",
        "    edge = G[u][v][0]\n",
        "    edge['weight'] = 1\n",
        "    print(f\"done------>{i}\")"
      ],
      "metadata": {
        "id": "2vsJH3ug6WEf"
      },
      "execution_count": null,
      "outputs": []
    },
    {
      "cell_type": "code",
      "source": [
        "# @title\n",
        "for i, row in df3.iterrows():\n",
        "    vertices = ox.distance.nearest_edges(G, row['longitude'], row['latitude'])\n",
        "    u = vertices[0]\n",
        "    v = vertices[1]\n",
        "    edge = G[u][v][0]\n",
        "    edge['weight'] = row['total_casualties']\n",
        "    print(f\"done------>{i}\")"
      ],
      "metadata": {
        "id": "KNOj1ceX6Cro"
      },
      "execution_count": null,
      "outputs": []
    },
    {
      "cell_type": "code",
      "source": [
        "# @title\n",
        "ox.save_graphml(G, filepath=\"/content/drive/My Drive/website_ds/weighted_graph.graphml\")"
      ],
      "metadata": {
        "id": "D4xukuOa6n-V"
      },
      "execution_count": null,
      "outputs": []
    },
    {
      "cell_type": "code",
      "source": [
        "#loading this pretrained weigthed graph for path finding"
      ],
      "metadata": {
        "id": "shJ_pYBXtNju"
      },
      "execution_count": null,
      "outputs": []
    },
    {
      "cell_type": "code",
      "source": [
        "G_loaded = ox.load_graphml(filepath=\"/content/drive/My Drive/website_ds/weighted_graph.graphml\")"
      ],
      "metadata": {
        "id": "LTjMIf2G_WMJ"
      },
      "execution_count": null,
      "outputs": []
    },
    {
      "cell_type": "code",
      "source": [
        "for u, v, data in G_loaded.edges(data=True):\n",
        "    if 'weight' in data:\n",
        "        data['weight'] = float(data['weight'])"
      ],
      "metadata": {
        "id": "yVoESf0GCjHi"
      },
      "execution_count": null,
      "outputs": []
    },
    {
      "cell_type": "code",
      "execution_count": null,
      "metadata": {
        "id": "X1lOpbSYl9bq"
      },
      "outputs": [],
      "source": [
        "#to convert address to latitude and longitude\n",
        "from geopy.geocoders import Nominatim\n",
        "\n",
        "def get_coordinates(address):\n",
        "    # Initialize Nominatim API with a unique user agent\n",
        "    geolocator = Nominatim(user_agent=\"YourAppName\")\n",
        "\n",
        "    # Getting Latitude and Longitude\n",
        "    location = geolocator.geocode(address)\n",
        "\n",
        "    if location:\n",
        "        return location.latitude, location.longitude\n",
        "    else:\n",
        "        return None, None"
      ]
    },
    {
      "cell_type": "code",
      "execution_count": null,
      "metadata": {
        "id": "dsF2wF1jU2VJ"
      },
      "outputs": [],
      "source": [
        "# optimal routing\n",
        "\n",
        "import folium\n",
        "\n",
        "G_loaded = ox.load_graphml(filepath=\"/content/drive/My Drive/website_ds/weighted_graph.graphml\")\n",
        "\n",
        "for u, v, data in G_loaded.edges(data=True):\n",
        "    if 'weight' in data:\n",
        "        data['weight'] = float(data['weight'])\n",
        "\n",
        "#to convert address to latitude and longitude\n",
        "from geopy.geocoders import Nominatim\n",
        "\n",
        "def get_coordinates(address):\n",
        "    # Initialize Nominatim API with a unique user agent\n",
        "    geolocator = Nominatim(user_agent=\"YourAppName\")\n",
        "\n",
        "    # Getting Latitude and Longitude\n",
        "    location = geolocator.geocode(address)\n",
        "\n",
        "    if location:\n",
        "        return location.latitude, location.longitude\n",
        "    else:\n",
        "        return None, None\n",
        "\n",
        "# Get starting and ending locations from user input\n",
        "start_location = input(\"Enter the starting location: \")\n",
        "end_location = input(\"Enter the ending location: \")\n",
        "\n",
        "# Get coordinates for the starting location\n",
        "start_lat, start_lng = get_coordinates(start_location)\n",
        "\n",
        "# Get coordinates for the ending location\n",
        "end_lat, end_lng = get_coordinates(end_location)\n",
        "\n",
        "# Display the results\n",
        "if start_lat is not None and start_lng is not None:\n",
        "    print(f\"Starting Location - Latitude: {start_lat}, Longitude: {start_lng}\")\n",
        "else:\n",
        "    print(\"Starting location not found.\")\n",
        "\n",
        "if end_lat is not None and end_lng is not None:\n",
        "    print(f\"Ending Location - Latitude: {end_lat}, Longitude: {end_lng}\")\n",
        "else:\n",
        "    print(\"Ending location not found.\")\n",
        "\n",
        "# Use Dijkstra's algorithm to find the optimal route\n",
        "source_node = ox.distance.nearest_nodes(G_loaded , start_lng, start_lat)\n",
        "target_node = ox.distance.nearest_nodes(G_loaded , end_lng, end_lat)\n",
        "optimal_route = nx.shortest_path(G_loaded, source=source_node, target=target_node, weight='weight')\n",
        "\n",
        "map_center = [start_lat, start_lng]\n",
        "mymap = folium.Map(location=map_center, zoom_start=12)\n",
        "\n",
        "for edge in G_loaded.edges:\n",
        "    start_node, end_node, _ = edge\n",
        "    start_coord = (G_loaded.nodes[start_node]['y'], G_loaded.nodes[start_node]['x'])\n",
        "    end_coord = (G_loaded.nodes[end_node]['y'], G_loaded.nodes[end_node]['x'])\n",
        "    folium.PolyLine([start_coord, end_coord], color='gray', weight=1).add_to(mymap)\n",
        "\n",
        "# Highlight optimal route on the map\n",
        "optimal_route_coords = [(G_loaded.nodes[node]['y'], G_loaded.nodes[node]['x']) for node in optimal_route]\n",
        "folium.PolyLine(optimal_route_coords, color='red', weight=3).add_to(mymap)\n",
        "\n",
        "# Add markers for traffic cluster locations\n",
        "for index, row in df1.iterrows():\n",
        "    folium.Marker([row['latitude'], row['longitude']], popup=f'Traffic Volume {row[\"Average_volume\"]}', icon=folium.Icon(color='blue')).add_to(mymap)\n",
        "\n",
        "# Add markers for construction cluster locations\n",
        "for index, row in df2.iterrows():\n",
        "    folium.Marker([row['latitude'], row['longitude']], popup=f'Construction Award {row[\"award\"]}', icon=folium.Icon(color='green')).add_to(mymap)\n",
        "\n",
        "# Add markers for collision cluster locations\n",
        "for index, row in df3.iterrows():\n",
        "    folium.Marker([row['latitude'], row['longitude']], popup=f'Total Collision Casuality{row[\"total_casualties\"]}', icon=folium.Icon(color='red')).add_to(mymap)\n",
        "\n",
        "mymap.save('/content/drive/My Drive/website_ds/map_route.html')\n"
      ]
    },
    {
      "cell_type": "code",
      "source": [
        "@app.route('/', methods=['GET'])\n",
        "def index():\n",
        "  return render_template('index.html', map_html=mymap)\n",
        "\n",
        "print(f\" * ngrok tunnel '{public_url}' -> 'http://127.0.0.1:{port}'\")\n",
        "app.run(use_reloader=False, port=port)"
      ],
      "metadata": {
        "id": "XFE1T-aGAVM0"
      },
      "execution_count": null,
      "outputs": []
    },
    {
      "cell_type": "markdown",
      "metadata": {
        "id": "UBryUZBVtZP7"
      },
      "source": [
        "### Contruction Data Analysis"
      ]
    },
    {
      "cell_type": "code",
      "execution_count": null,
      "metadata": {
        "id": "4zAseg_uWkcy",
        "colab": {
          "base_uri": "https://localhost:8080/",
          "height": 231
        },
        "outputId": "16ebe3ef-77cc-4295-ff00-5e6e5ad8d4e6"
      },
      "outputs": [
        {
          "output_type": "execute_result",
          "data": {
            "text/plain": [
              "   unique_id                  name boro  geo_dist  \\\n",
              "0          1  K721 SPED - BROOKLYN    K        21   \n",
              "1          2     P.S. 117 - QUEENS    Q        28   \n",
              "\n",
              "                        projdesc       award consttype buildingid  \\\n",
              "0  FIRE ALARM SYSTEM REPLACEMENT  999.999999       CIP       K722   \n",
              "1      LSP DOMESTIC WATER HEATER  999.999999       CIP       Q117   \n",
              "\n",
              "     building_address      city  ...      bin         bbl  census_tract  \\\n",
              "0         64 AVENUE X  Brooklyn  ...  3385667  2147483647           308   \n",
              "1  85-15 143RD STREET    Queens  ...  4208040  2147483647           232   \n",
              "\n",
              "      nta  data_as_of  computed_region_efsh_h5xi  computed_region_f5dn_yrer  \\\n",
              "0  BK1301  2023-05-23                      18183                         21   \n",
              "1  QN0805  2023-05-23                      24670                         25   \n",
              "\n",
              "   computed_region_yeji_bk3q  computed_region_92fq_4b7q  \\\n",
              "0                          2                         45   \n",
              "1                          3                         24   \n",
              "\n",
              "  computed_region_sbqj_enih  \n",
              "0                        35  \n",
              "1                        65  \n",
              "\n",
              "[2 rows x 26 columns]"
            ],
            "text/html": [
              "\n",
              "  <div id=\"df-62b67002-1c4e-4fe1-a510-10ba80a2ca34\" class=\"colab-df-container\">\n",
              "    <div>\n",
              "<style scoped>\n",
              "    .dataframe tbody tr th:only-of-type {\n",
              "        vertical-align: middle;\n",
              "    }\n",
              "\n",
              "    .dataframe tbody tr th {\n",
              "        vertical-align: top;\n",
              "    }\n",
              "\n",
              "    .dataframe thead th {\n",
              "        text-align: right;\n",
              "    }\n",
              "</style>\n",
              "<table border=\"1\" class=\"dataframe\">\n",
              "  <thead>\n",
              "    <tr style=\"text-align: right;\">\n",
              "      <th></th>\n",
              "      <th>unique_id</th>\n",
              "      <th>name</th>\n",
              "      <th>boro</th>\n",
              "      <th>geo_dist</th>\n",
              "      <th>projdesc</th>\n",
              "      <th>award</th>\n",
              "      <th>consttype</th>\n",
              "      <th>buildingid</th>\n",
              "      <th>building_address</th>\n",
              "      <th>city</th>\n",
              "      <th>...</th>\n",
              "      <th>bin</th>\n",
              "      <th>bbl</th>\n",
              "      <th>census_tract</th>\n",
              "      <th>nta</th>\n",
              "      <th>data_as_of</th>\n",
              "      <th>computed_region_efsh_h5xi</th>\n",
              "      <th>computed_region_f5dn_yrer</th>\n",
              "      <th>computed_region_yeji_bk3q</th>\n",
              "      <th>computed_region_92fq_4b7q</th>\n",
              "      <th>computed_region_sbqj_enih</th>\n",
              "    </tr>\n",
              "  </thead>\n",
              "  <tbody>\n",
              "    <tr>\n",
              "      <th>0</th>\n",
              "      <td>1</td>\n",
              "      <td>K721 SPED - BROOKLYN</td>\n",
              "      <td>K</td>\n",
              "      <td>21</td>\n",
              "      <td>FIRE ALARM SYSTEM REPLACEMENT</td>\n",
              "      <td>999.999999</td>\n",
              "      <td>CIP</td>\n",
              "      <td>K722</td>\n",
              "      <td>64 AVENUE X</td>\n",
              "      <td>Brooklyn</td>\n",
              "      <td>...</td>\n",
              "      <td>3385667</td>\n",
              "      <td>2147483647</td>\n",
              "      <td>308</td>\n",
              "      <td>BK1301</td>\n",
              "      <td>2023-05-23</td>\n",
              "      <td>18183</td>\n",
              "      <td>21</td>\n",
              "      <td>2</td>\n",
              "      <td>45</td>\n",
              "      <td>35</td>\n",
              "    </tr>\n",
              "    <tr>\n",
              "      <th>1</th>\n",
              "      <td>2</td>\n",
              "      <td>P.S. 117 - QUEENS</td>\n",
              "      <td>Q</td>\n",
              "      <td>28</td>\n",
              "      <td>LSP DOMESTIC WATER HEATER</td>\n",
              "      <td>999.999999</td>\n",
              "      <td>CIP</td>\n",
              "      <td>Q117</td>\n",
              "      <td>85-15 143RD STREET</td>\n",
              "      <td>Queens</td>\n",
              "      <td>...</td>\n",
              "      <td>4208040</td>\n",
              "      <td>2147483647</td>\n",
              "      <td>232</td>\n",
              "      <td>QN0805</td>\n",
              "      <td>2023-05-23</td>\n",
              "      <td>24670</td>\n",
              "      <td>25</td>\n",
              "      <td>3</td>\n",
              "      <td>24</td>\n",
              "      <td>65</td>\n",
              "    </tr>\n",
              "  </tbody>\n",
              "</table>\n",
              "<p>2 rows × 26 columns</p>\n",
              "</div>\n",
              "    <div class=\"colab-df-buttons\">\n",
              "\n",
              "  <div class=\"colab-df-container\">\n",
              "    <button class=\"colab-df-convert\" onclick=\"convertToInteractive('df-62b67002-1c4e-4fe1-a510-10ba80a2ca34')\"\n",
              "            title=\"Convert this dataframe to an interactive table.\"\n",
              "            style=\"display:none;\">\n",
              "\n",
              "  <svg xmlns=\"http://www.w3.org/2000/svg\" height=\"24px\" viewBox=\"0 -960 960 960\">\n",
              "    <path d=\"M120-120v-720h720v720H120Zm60-500h600v-160H180v160Zm220 220h160v-160H400v160Zm0 220h160v-160H400v160ZM180-400h160v-160H180v160Zm440 0h160v-160H620v160ZM180-180h160v-160H180v160Zm440 0h160v-160H620v160Z\"/>\n",
              "  </svg>\n",
              "    </button>\n",
              "\n",
              "  <style>\n",
              "    .colab-df-container {\n",
              "      display:flex;\n",
              "      gap: 12px;\n",
              "    }\n",
              "\n",
              "    .colab-df-convert {\n",
              "      background-color: #E8F0FE;\n",
              "      border: none;\n",
              "      border-radius: 50%;\n",
              "      cursor: pointer;\n",
              "      display: none;\n",
              "      fill: #1967D2;\n",
              "      height: 32px;\n",
              "      padding: 0 0 0 0;\n",
              "      width: 32px;\n",
              "    }\n",
              "\n",
              "    .colab-df-convert:hover {\n",
              "      background-color: #E2EBFA;\n",
              "      box-shadow: 0px 1px 2px rgba(60, 64, 67, 0.3), 0px 1px 3px 1px rgba(60, 64, 67, 0.15);\n",
              "      fill: #174EA6;\n",
              "    }\n",
              "\n",
              "    .colab-df-buttons div {\n",
              "      margin-bottom: 4px;\n",
              "    }\n",
              "\n",
              "    [theme=dark] .colab-df-convert {\n",
              "      background-color: #3B4455;\n",
              "      fill: #D2E3FC;\n",
              "    }\n",
              "\n",
              "    [theme=dark] .colab-df-convert:hover {\n",
              "      background-color: #434B5C;\n",
              "      box-shadow: 0px 1px 3px 1px rgba(0, 0, 0, 0.15);\n",
              "      filter: drop-shadow(0px 1px 2px rgba(0, 0, 0, 0.3));\n",
              "      fill: #FFFFFF;\n",
              "    }\n",
              "  </style>\n",
              "\n",
              "    <script>\n",
              "      const buttonEl =\n",
              "        document.querySelector('#df-62b67002-1c4e-4fe1-a510-10ba80a2ca34 button.colab-df-convert');\n",
              "      buttonEl.style.display =\n",
              "        google.colab.kernel.accessAllowed ? 'block' : 'none';\n",
              "\n",
              "      async function convertToInteractive(key) {\n",
              "        const element = document.querySelector('#df-62b67002-1c4e-4fe1-a510-10ba80a2ca34');\n",
              "        const dataTable =\n",
              "          await google.colab.kernel.invokeFunction('convertToInteractive',\n",
              "                                                    [key], {});\n",
              "        if (!dataTable) return;\n",
              "\n",
              "        const docLinkHtml = 'Like what you see? Visit the ' +\n",
              "          '<a target=\"_blank\" href=https://colab.research.google.com/notebooks/data_table.ipynb>data table notebook</a>'\n",
              "          + ' to learn more about interactive tables.';\n",
              "        element.innerHTML = '';\n",
              "        dataTable['output_type'] = 'display_data';\n",
              "        await google.colab.output.renderOutput(dataTable, element);\n",
              "        const docLink = document.createElement('div');\n",
              "        docLink.innerHTML = docLinkHtml;\n",
              "        element.appendChild(docLink);\n",
              "      }\n",
              "    </script>\n",
              "  </div>\n",
              "\n",
              "\n",
              "<div id=\"df-a3b08007-1c28-4b1d-9863-8bd894ec4b9f\">\n",
              "  <button class=\"colab-df-quickchart\" onclick=\"quickchart('df-a3b08007-1c28-4b1d-9863-8bd894ec4b9f')\"\n",
              "            title=\"Suggest charts\"\n",
              "            style=\"display:none;\">\n",
              "\n",
              "<svg xmlns=\"http://www.w3.org/2000/svg\" height=\"24px\"viewBox=\"0 0 24 24\"\n",
              "     width=\"24px\">\n",
              "    <g>\n",
              "        <path d=\"M19 3H5c-1.1 0-2 .9-2 2v14c0 1.1.9 2 2 2h14c1.1 0 2-.9 2-2V5c0-1.1-.9-2-2-2zM9 17H7v-7h2v7zm4 0h-2V7h2v10zm4 0h-2v-4h2v4z\"/>\n",
              "    </g>\n",
              "</svg>\n",
              "  </button>\n",
              "\n",
              "<style>\n",
              "  .colab-df-quickchart {\n",
              "      --bg-color: #E8F0FE;\n",
              "      --fill-color: #1967D2;\n",
              "      --hover-bg-color: #E2EBFA;\n",
              "      --hover-fill-color: #174EA6;\n",
              "      --disabled-fill-color: #AAA;\n",
              "      --disabled-bg-color: #DDD;\n",
              "  }\n",
              "\n",
              "  [theme=dark] .colab-df-quickchart {\n",
              "      --bg-color: #3B4455;\n",
              "      --fill-color: #D2E3FC;\n",
              "      --hover-bg-color: #434B5C;\n",
              "      --hover-fill-color: #FFFFFF;\n",
              "      --disabled-bg-color: #3B4455;\n",
              "      --disabled-fill-color: #666;\n",
              "  }\n",
              "\n",
              "  .colab-df-quickchart {\n",
              "    background-color: var(--bg-color);\n",
              "    border: none;\n",
              "    border-radius: 50%;\n",
              "    cursor: pointer;\n",
              "    display: none;\n",
              "    fill: var(--fill-color);\n",
              "    height: 32px;\n",
              "    padding: 0;\n",
              "    width: 32px;\n",
              "  }\n",
              "\n",
              "  .colab-df-quickchart:hover {\n",
              "    background-color: var(--hover-bg-color);\n",
              "    box-shadow: 0 1px 2px rgba(60, 64, 67, 0.3), 0 1px 3px 1px rgba(60, 64, 67, 0.15);\n",
              "    fill: var(--button-hover-fill-color);\n",
              "  }\n",
              "\n",
              "  .colab-df-quickchart-complete:disabled,\n",
              "  .colab-df-quickchart-complete:disabled:hover {\n",
              "    background-color: var(--disabled-bg-color);\n",
              "    fill: var(--disabled-fill-color);\n",
              "    box-shadow: none;\n",
              "  }\n",
              "\n",
              "  .colab-df-spinner {\n",
              "    border: 2px solid var(--fill-color);\n",
              "    border-color: transparent;\n",
              "    border-bottom-color: var(--fill-color);\n",
              "    animation:\n",
              "      spin 1s steps(1) infinite;\n",
              "  }\n",
              "\n",
              "  @keyframes spin {\n",
              "    0% {\n",
              "      border-color: transparent;\n",
              "      border-bottom-color: var(--fill-color);\n",
              "      border-left-color: var(--fill-color);\n",
              "    }\n",
              "    20% {\n",
              "      border-color: transparent;\n",
              "      border-left-color: var(--fill-color);\n",
              "      border-top-color: var(--fill-color);\n",
              "    }\n",
              "    30% {\n",
              "      border-color: transparent;\n",
              "      border-left-color: var(--fill-color);\n",
              "      border-top-color: var(--fill-color);\n",
              "      border-right-color: var(--fill-color);\n",
              "    }\n",
              "    40% {\n",
              "      border-color: transparent;\n",
              "      border-right-color: var(--fill-color);\n",
              "      border-top-color: var(--fill-color);\n",
              "    }\n",
              "    60% {\n",
              "      border-color: transparent;\n",
              "      border-right-color: var(--fill-color);\n",
              "    }\n",
              "    80% {\n",
              "      border-color: transparent;\n",
              "      border-right-color: var(--fill-color);\n",
              "      border-bottom-color: var(--fill-color);\n",
              "    }\n",
              "    90% {\n",
              "      border-color: transparent;\n",
              "      border-bottom-color: var(--fill-color);\n",
              "    }\n",
              "  }\n",
              "</style>\n",
              "\n",
              "  <script>\n",
              "    async function quickchart(key) {\n",
              "      const quickchartButtonEl =\n",
              "        document.querySelector('#' + key + ' button');\n",
              "      quickchartButtonEl.disabled = true;  // To prevent multiple clicks.\n",
              "      quickchartButtonEl.classList.add('colab-df-spinner');\n",
              "      try {\n",
              "        const charts = await google.colab.kernel.invokeFunction(\n",
              "            'suggestCharts', [key], {});\n",
              "      } catch (error) {\n",
              "        console.error('Error during call to suggestCharts:', error);\n",
              "      }\n",
              "      quickchartButtonEl.classList.remove('colab-df-spinner');\n",
              "      quickchartButtonEl.classList.add('colab-df-quickchart-complete');\n",
              "    }\n",
              "    (() => {\n",
              "      let quickchartButtonEl =\n",
              "        document.querySelector('#df-a3b08007-1c28-4b1d-9863-8bd894ec4b9f button');\n",
              "      quickchartButtonEl.style.display =\n",
              "        google.colab.kernel.accessAllowed ? 'block' : 'none';\n",
              "    })();\n",
              "  </script>\n",
              "</div>\n",
              "    </div>\n",
              "  </div>\n"
            ]
          },
          "metadata": {},
          "execution_count": 40
        }
      ],
      "source": [
        "construction_data.head(2)"
      ]
    },
    {
      "cell_type": "code",
      "execution_count": null,
      "metadata": {
        "id": "7-85F3Mc1nC-",
        "colab": {
          "base_uri": "https://localhost:8080/",
          "height": 708
        },
        "outputId": "4c9e6285-25a2-4034-d96b-d1e985070aa7"
      },
      "outputs": [
        {
          "output_type": "display_data",
          "data": {
            "text/plain": [
              "<Figure size 640x480 with 1 Axes>"
            ],
            "image/png": "[encoded data removed]"
          },
          "metadata": {
            "image/png": {
              "width": 580,
              "height": 458
            }
          }
        },
        {
          "output_type": "error",
          "ename": "NameError",
          "evalue": "ignored",
          "traceback": [
            "\u001b[0;31m---------------------------------------------------------------------------\u001b[0m",
            "\u001b[0;31mNameError\u001b[0m                                 Traceback (most recent call last)",
            "\u001b[0;32m<ipython-input-41-5091dc31b8dd>\u001b[0m in \u001b[0;36m<cell line: 9>\u001b[0;34m()\u001b[0m\n\u001b[1;32m      7\u001b[0m \u001b[0mplt\u001b[0m\u001b[0;34m.\u001b[0m\u001b[0mshow\u001b[0m\u001b[0;34m(\u001b[0m\u001b[0;34m)\u001b[0m\u001b[0;34m\u001b[0m\u001b[0;34m\u001b[0m\u001b[0m\n\u001b[1;32m      8\u001b[0m \u001b[0;34m\u001b[0m\u001b[0m\n\u001b[0;32m----> 9\u001b[0;31m \u001b[0mbuf\u001b[0m \u001b[0;34m=\u001b[0m \u001b[0mBytesIO\u001b[0m\u001b[0;34m(\u001b[0m\u001b[0;34m)\u001b[0m\u001b[0;34m\u001b[0m\u001b[0;34m\u001b[0m\u001b[0m\n\u001b[0m\u001b[1;32m     10\u001b[0m \u001b[0mfig\u001b[0m\u001b[0;34m.\u001b[0m\u001b[0msavefig\u001b[0m\u001b[0;34m(\u001b[0m\u001b[0mbuf\u001b[0m\u001b[0;34m,\u001b[0m \u001b[0mformat\u001b[0m\u001b[0;34m=\u001b[0m\u001b[0;34m\"png\"\u001b[0m\u001b[0;34m)\u001b[0m\u001b[0;34m\u001b[0m\u001b[0;34m\u001b[0m\u001b[0m\n\u001b[1;32m     11\u001b[0m \u001b[0mproj_per_boro\u001b[0m \u001b[0;34m=\u001b[0m \u001b[0mbase64\u001b[0m\u001b[0;34m.\u001b[0m\u001b[0mb64encode\u001b[0m\u001b[0;34m(\u001b[0m\u001b[0mbuf\u001b[0m\u001b[0;34m.\u001b[0m\u001b[0mgetbuffer\u001b[0m\u001b[0;34m(\u001b[0m\u001b[0;34m)\u001b[0m\u001b[0;34m)\u001b[0m\u001b[0;34m.\u001b[0m\u001b[0mdecode\u001b[0m\u001b[0;34m(\u001b[0m\u001b[0;34m\"ascii\"\u001b[0m\u001b[0;34m)\u001b[0m\u001b[0;34m\u001b[0m\u001b[0;34m\u001b[0m\u001b[0m\n",
            "\u001b[0;31mNameError\u001b[0m: name 'BytesIO' is not defined"
          ]
        }
      ],
      "source": [
        "# Plot a bar chart of the number of projects per borough using Matplotlib\n",
        "borough_counts = construction_data['boro'].value_counts()\n",
        "borough_counts.plot(kind='bar', rot=45, color='skyblue')\n",
        "plt.title('Number of Projects per Borough')\n",
        "plt.xlabel('Borough')\n",
        "plt.ylabel('Number of Projects')\n",
        "plt.show()\n",
        "\n",
        "buf = BytesIO()\n",
        "fig.savefig(buf, format=\"png\")\n",
        "proj_per_boro = base64.b64encode(buf.getbuffer()).decode(\"ascii\")"
      ]
    },
    {
      "cell_type": "code",
      "execution_count": null,
      "metadata": {
        "id": "vdf97gze1qi9",
        "colab": {
          "base_uri": "https://localhost:8080/",
          "height": 660
        },
        "outputId": "f67df1dc-3bd1-444b-9be3-1aeb690e5514"
      },
      "outputs": [
        {
          "output_type": "display_data",
          "data": {
            "text/plain": [
              "<Figure size 640x480 with 1 Axes>"
            ],
            "image/png": "[encoded data removed]"
          },
          "metadata": {
            "image/png": {
              "width": 515,
              "height": 410
            }
          }
        },
        {
          "output_type": "error",
          "ename": "NameError",
          "evalue": "ignored",
          "traceback": [
            "\u001b[0;31m---------------------------------------------------------------------------\u001b[0m",
            "\u001b[0;31mNameError\u001b[0m                                 Traceback (most recent call last)",
            "\u001b[0;32m<ipython-input-42-2128375bd37b>\u001b[0m in \u001b[0;36m<cell line: 9>\u001b[0;34m()\u001b[0m\n\u001b[1;32m      7\u001b[0m \u001b[0mplt\u001b[0m\u001b[0;34m.\u001b[0m\u001b[0mshow\u001b[0m\u001b[0;34m(\u001b[0m\u001b[0;34m)\u001b[0m\u001b[0;34m\u001b[0m\u001b[0;34m\u001b[0m\u001b[0m\n\u001b[1;32m      8\u001b[0m \u001b[0;34m\u001b[0m\u001b[0m\n\u001b[0;32m----> 9\u001b[0;31m \u001b[0mbuf\u001b[0m \u001b[0;34m=\u001b[0m \u001b[0mBytesIO\u001b[0m\u001b[0;34m(\u001b[0m\u001b[0;34m)\u001b[0m\u001b[0;34m\u001b[0m\u001b[0;34m\u001b[0m\u001b[0m\n\u001b[0m\u001b[1;32m     10\u001b[0m \u001b[0mfig\u001b[0m\u001b[0;34m.\u001b[0m\u001b[0msavefig\u001b[0m\u001b[0;34m(\u001b[0m\u001b[0mbuf\u001b[0m\u001b[0;34m,\u001b[0m \u001b[0mformat\u001b[0m\u001b[0;34m=\u001b[0m\u001b[0;34m\"png\"\u001b[0m\u001b[0;34m)\u001b[0m\u001b[0;34m\u001b[0m\u001b[0;34m\u001b[0m\u001b[0m\n\u001b[1;32m     11\u001b[0m \u001b[0mproj_dist\u001b[0m \u001b[0;34m=\u001b[0m \u001b[0mbase64\u001b[0m\u001b[0;34m.\u001b[0m\u001b[0mb64encode\u001b[0m\u001b[0;34m(\u001b[0m\u001b[0mbuf\u001b[0m\u001b[0;34m.\u001b[0m\u001b[0mgetbuffer\u001b[0m\u001b[0;34m(\u001b[0m\u001b[0;34m)\u001b[0m\u001b[0;34m)\u001b[0m\u001b[0;34m.\u001b[0m\u001b[0mdecode\u001b[0m\u001b[0;34m(\u001b[0m\u001b[0;34m\"ascii\"\u001b[0m\u001b[0;34m)\u001b[0m\u001b[0;34m\u001b[0m\u001b[0;34m\u001b[0m\u001b[0m\n",
            "\u001b[0;31mNameError\u001b[0m: name 'BytesIO' is not defined"
          ]
        }
      ],
      "source": [
        "# Distribution of project types\n",
        "project_type_counts = construction_data['consttype'].value_counts()\n",
        "fig1, ax1 = plt.subplots()\n",
        "ax1.pie(project_type_counts, labels=project_type_counts.index, autopct='%1.1f%%', startangle=90)\n",
        "ax1.axis('equal')  # Equal aspect ratio ensures that pie is drawn as a circle.\n",
        "plt.title('Distribution of Project Types')\n",
        "plt.show()\n",
        "\n",
        "buf = BytesIO()\n",
        "fig.savefig(buf, format=\"png\")\n",
        "proj_dist = base64.b64encode(buf.getbuffer()).decode(\"ascii\")"
      ]
    },
    {
      "cell_type": "code",
      "execution_count": null,
      "metadata": {
        "id": "GOiNWp_W1tSv",
        "colab": {
          "base_uri": "https://localhost:8080/",
          "height": 702
        },
        "outputId": "b4c8784f-fb60-4345-acec-f0111f353516"
      },
      "outputs": [
        {
          "output_type": "display_data",
          "data": {
            "text/plain": [
              "<Figure size 640x480 with 1 Axes>"
            ],
            "image/png": "[encoded data removed]"
          },
          "metadata": {
            "image/png": {
              "width": 585,
              "height": 452
            }
          }
        },
        {
          "output_type": "error",
          "ename": "NameError",
          "evalue": "ignored",
          "traceback": [
            "\u001b[0;31m---------------------------------------------------------------------------\u001b[0m",
            "\u001b[0;31mNameError\u001b[0m                                 Traceback (most recent call last)",
            "\u001b[0;32m<ipython-input-43-10536e25ad49>\u001b[0m in \u001b[0;36m<cell line: 13>\u001b[0;34m()\u001b[0m\n\u001b[1;32m     11\u001b[0m \u001b[0mplt\u001b[0m\u001b[0;34m.\u001b[0m\u001b[0mshow\u001b[0m\u001b[0;34m(\u001b[0m\u001b[0;34m)\u001b[0m\u001b[0;34m\u001b[0m\u001b[0;34m\u001b[0m\u001b[0m\n\u001b[1;32m     12\u001b[0m \u001b[0;34m\u001b[0m\u001b[0m\n\u001b[0;32m---> 13\u001b[0;31m \u001b[0mbuf\u001b[0m \u001b[0;34m=\u001b[0m \u001b[0mBytesIO\u001b[0m\u001b[0;34m(\u001b[0m\u001b[0;34m)\u001b[0m\u001b[0;34m\u001b[0m\u001b[0;34m\u001b[0m\u001b[0m\n\u001b[0m\u001b[1;32m     14\u001b[0m \u001b[0mfig\u001b[0m\u001b[0;34m.\u001b[0m\u001b[0msavefig\u001b[0m\u001b[0;34m(\u001b[0m\u001b[0mbuf\u001b[0m\u001b[0;34m,\u001b[0m \u001b[0mformat\u001b[0m\u001b[0;34m=\u001b[0m\u001b[0;34m\"png\"\u001b[0m\u001b[0;34m)\u001b[0m\u001b[0;34m\u001b[0m\u001b[0;34m\u001b[0m\u001b[0m\n\u001b[1;32m     15\u001b[0m \u001b[0maward_boro\u001b[0m \u001b[0;34m=\u001b[0m \u001b[0mbase64\u001b[0m\u001b[0;34m.\u001b[0m\u001b[0mb64encode\u001b[0m\u001b[0;34m(\u001b[0m\u001b[0mbuf\u001b[0m\u001b[0;34m.\u001b[0m\u001b[0mgetbuffer\u001b[0m\u001b[0;34m(\u001b[0m\u001b[0;34m)\u001b[0m\u001b[0;34m)\u001b[0m\u001b[0;34m.\u001b[0m\u001b[0mdecode\u001b[0m\u001b[0;34m(\u001b[0m\u001b[0;34m\"ascii\"\u001b[0m\u001b[0;34m)\u001b[0m\u001b[0;34m\u001b[0m\u001b[0;34m\u001b[0m\u001b[0m\n",
            "\u001b[0;31mNameError\u001b[0m: name 'BytesIO' is not defined"
          ]
        }
      ],
      "source": [
        "# Average award amount by borough\n",
        "avg_award_by_borough = construction_data.groupby('boro')['award'].mean()\n",
        "normalized_avg_award = avg_award_by_borough / avg_award_by_borough.sum()\n",
        "\n",
        "# Plot the normalized average award amount by borough\n",
        "fig2, ax2 = plt.subplots()\n",
        "normalized_avg_award.plot(kind='bar', color='skyblue')\n",
        "plt.title('Normalized Average Award Amount by Borough')\n",
        "plt.xlabel('Borough')\n",
        "plt.ylabel('Normalized Average Award Amount')\n",
        "plt.show()\n",
        "\n",
        "buf = BytesIO()\n",
        "fig.savefig(buf, format=\"png\")\n",
        "award_boro = base64.b64encode(buf.getbuffer()).decode(\"ascii\")"
      ]
    },
    {
      "cell_type": "code",
      "execution_count": null,
      "metadata": {
        "id": "nvYYJVKZ8mud"
      },
      "outputs": [],
      "source": [
        "import pandas as pd\n",
        "import plotly.express as px\n",
        "\n",
        "# Award is the value of prime construction contract\n",
        "fig = px.density_mapbox(construction_data, lat='latitude', lon='longitude', z='award',\n",
        "                        radius=10,  # Adjust the radius based on your preference\n",
        "                        center=dict(lat=construction_data['latitude'].mean(),\n",
        "                                    lon=construction_data['longitude'].mean()),\n",
        "                        zoom=10,\n",
        "                        hover_data=['name', 'projdesc', 'award'],\n",
        "                        labels={'award': 'Award Amount'},\n",
        "                        title='Construction Project Concentration Heatmap',\n",
        "                        mapbox_style='open-street-map')\n",
        "\n",
        "fig.write_html(\"construction_heatmap.html\")"
      ]
    },
    {
      "cell_type": "code",
      "source": [
        "@app.route('/construction', methods=['GET'])\n",
        "def construction():\n",
        "    return render_template('construction.html', construction_data=construction_data_json,\n",
        "                           proj_per_boro=proj_per_boro, proj_dist=proj_dist, award_boro=award_boro)"
      ],
      "metadata": {
        "id": "XKqCvEJwuKdn"
      },
      "execution_count": null,
      "outputs": []
    },
    {
      "cell_type": "markdown",
      "metadata": {
        "id": "YCKFmVT6wSAz"
      },
      "source": [
        "### Collisions Data Analysis"
      ]
    },
    {
      "cell_type": "code",
      "execution_count": null,
      "metadata": {
        "id": "boNSQcmYwgTM"
      },
      "outputs": [],
      "source": [
        "collision_data.head(2)"
      ]
    },
    {
      "cell_type": "code",
      "execution_count": null,
      "metadata": {
        "id": "zOSLNRBCQntH",
        "colab": {
          "base_uri": "https://localhost:8080/",
          "height": 471
        },
        "outputId": "e3ed1a2d-2f94-4146-c06d-e11a28a9e562"
      },
      "outputs": [
        {
          "output_type": "display_data",
          "data": {
            "text/plain": [
              "<Figure size 640x480 with 1 Axes>"
            ],
            "image/png": "[encoded data removed]"
          },
          "metadata": {
            "image/png": {
              "width": 589,
              "height": 454
            }
          }
        }
      ],
      "source": [
        "collision_data['borough'].fillna('Unknown', inplace=True)\n",
        "\n",
        "# Group by borough and count the number of collisions in each borough\n",
        "borough_collisions = collision_data['borough'].value_counts()\n",
        "\n",
        "# Create a bar chart\n",
        "plt.bar(borough_collisions.index, borough_collisions.values, color='blue')\n",
        "plt.title('Number of Collisions per Borough in New York')\n",
        "plt.xlabel('Borough')\n",
        "plt.ylabel('Number of Collisions')\n",
        "plt.show()"
      ]
    },
    {
      "cell_type": "markdown",
      "metadata": {
        "id": "F1uLKbmRSBd5"
      },
      "source": [
        "A simple program that allows a user to input a street name, and the program will then determine whether or not that street is included in the crash data."
      ]
    },
    {
      "cell_type": "code",
      "execution_count": null,
      "metadata": {
        "id": "GEUAAfvDRgx7"
      },
      "outputs": [],
      "source": [
        "# user enters street name and it is returned if it is included in the crash data\n",
        "def is_street_in_crash_data(street_name, df):\n",
        "    # Check if the street name is present in either 'on_street_name' or 'off_street_name'\n",
        "    on_street_mask = df['on_street_name'].str.contains(street_name, case=False, na=False)\n",
        "    off_street_mask = df['off_street_name'].str.contains(street_name, case=False, na=False)\n",
        "\n",
        "    # Return True if the street is found in either on_street_name or off_street_name\n",
        "    return any(on_street_mask | off_street_mask)\n",
        "\n",
        "# Example usage:\n",
        "user_input_street = input(\"Enter a street name: \")\n",
        "result = is_street_in_crash_data(user_input_street, collision_data)\n",
        "\n",
        "if result:\n",
        "    print(f\"{user_input_street} is included in the crash data.\")\n",
        "else:\n",
        "    print(f\"{user_input_street} is not found in the crash data.\")\n"
      ]
    },
    {
      "cell_type": "code",
      "execution_count": null,
      "metadata": {
        "id": "e1M1N3kZToMg",
        "colab": {
          "base_uri": "https://localhost:8080/",
          "height": 399
        },
        "outputId": "ba326d44-4632-4472-ac3a-92ed49b16a22"
      },
      "outputs": [
        {
          "output_type": "error",
          "ename": "KeyError",
          "evalue": "ignored",
          "traceback": [
            "\u001b[0;31m---------------------------------------------------------------------------\u001b[0m",
            "\u001b[0;31mKeyError\u001b[0m                                  Traceback (most recent call last)",
            "\u001b[0;32m<ipython-input-49-7517da065671>\u001b[0m in \u001b[0;36m<cell line: 5>\u001b[0;34m()\u001b[0m\n\u001b[1;32m      3\u001b[0m \u001b[0;34m\u001b[0m\u001b[0m\n\u001b[1;32m      4\u001b[0m \u001b[0;31m# Group by borough and sum the number of casualties in each borough\u001b[0m\u001b[0;34m\u001b[0m\u001b[0;34m\u001b[0m\u001b[0m\n\u001b[0;32m----> 5\u001b[0;31m \u001b[0mborough_casualties\u001b[0m \u001b[0;34m=\u001b[0m \u001b[0mcollision_data\u001b[0m\u001b[0;34m.\u001b[0m\u001b[0mgroupby\u001b[0m\u001b[0;34m(\u001b[0m\u001b[0;34m'borough'\u001b[0m\u001b[0;34m)\u001b[0m\u001b[0;34m[\u001b[0m\u001b[0;34m'casualities'\u001b[0m\u001b[0;34m]\u001b[0m\u001b[0;34m.\u001b[0m\u001b[0msum\u001b[0m\u001b[0;34m(\u001b[0m\u001b[0;34m)\u001b[0m\u001b[0;34m\u001b[0m\u001b[0;34m\u001b[0m\u001b[0m\n\u001b[0m\u001b[1;32m      6\u001b[0m \u001b[0;34m\u001b[0m\u001b[0m\n\u001b[1;32m      7\u001b[0m \u001b[0;31m# Create a pie chart\u001b[0m\u001b[0;34m\u001b[0m\u001b[0;34m\u001b[0m\u001b[0m\n",
            "\u001b[0;32m/usr/local/lib/python3.10/dist-packages/pandas/core/groupby/generic.py\u001b[0m in \u001b[0;36m__getitem__\u001b[0;34m(self, key)\u001b[0m\n\u001b[1;32m   1414\u001b[0m                 \u001b[0mstacklevel\u001b[0m\u001b[0;34m=\u001b[0m\u001b[0mfind_stack_level\u001b[0m\u001b[0;34m(\u001b[0m\u001b[0;34m)\u001b[0m\u001b[0;34m,\u001b[0m\u001b[0;34m\u001b[0m\u001b[0;34m\u001b[0m\u001b[0m\n\u001b[1;32m   1415\u001b[0m             )\n\u001b[0;32m-> 1416\u001b[0;31m         \u001b[0;32mreturn\u001b[0m \u001b[0msuper\u001b[0m\u001b[0;34m(\u001b[0m\u001b[0;34m)\u001b[0m\u001b[0;34m.\u001b[0m\u001b[0m__getitem__\u001b[0m\u001b[0;34m(\u001b[0m\u001b[0mkey\u001b[0m\u001b[0;34m)\u001b[0m\u001b[0;34m\u001b[0m\u001b[0;34m\u001b[0m\u001b[0m\n\u001b[0m\u001b[1;32m   1417\u001b[0m \u001b[0;34m\u001b[0m\u001b[0m\n\u001b[1;32m   1418\u001b[0m     \u001b[0;32mdef\u001b[0m \u001b[0m_gotitem\u001b[0m\u001b[0;34m(\u001b[0m\u001b[0mself\u001b[0m\u001b[0;34m,\u001b[0m \u001b[0mkey\u001b[0m\u001b[0;34m,\u001b[0m \u001b[0mndim\u001b[0m\u001b[0;34m:\u001b[0m \u001b[0mint\u001b[0m\u001b[0;34m,\u001b[0m \u001b[0msubset\u001b[0m\u001b[0;34m=\u001b[0m\u001b[0;32mNone\u001b[0m\u001b[0;34m)\u001b[0m\u001b[0;34m:\u001b[0m\u001b[0;34m\u001b[0m\u001b[0;34m\u001b[0m\u001b[0m\n",
            "\u001b[0;32m/usr/local/lib/python3.10/dist-packages/pandas/core/base.py\u001b[0m in \u001b[0;36m__getitem__\u001b[0;34m(self, key)\u001b[0m\n\u001b[1;32m    246\u001b[0m         \u001b[0;32melse\u001b[0m\u001b[0;34m:\u001b[0m\u001b[0;34m\u001b[0m\u001b[0;34m\u001b[0m\u001b[0m\n\u001b[1;32m    247\u001b[0m             \u001b[0;32mif\u001b[0m \u001b[0mkey\u001b[0m \u001b[0;32mnot\u001b[0m \u001b[0;32min\u001b[0m \u001b[0mself\u001b[0m\u001b[0;34m.\u001b[0m\u001b[0mobj\u001b[0m\u001b[0;34m:\u001b[0m\u001b[0;34m\u001b[0m\u001b[0;34m\u001b[0m\u001b[0m\n\u001b[0;32m--> 248\u001b[0;31m                 \u001b[0;32mraise\u001b[0m \u001b[0mKeyError\u001b[0m\u001b[0;34m(\u001b[0m\u001b[0;34mf\"Column not found: {key}\"\u001b[0m\u001b[0;34m)\u001b[0m\u001b[0;34m\u001b[0m\u001b[0;34m\u001b[0m\u001b[0m\n\u001b[0m\u001b[1;32m    249\u001b[0m             \u001b[0msubset\u001b[0m \u001b[0;34m=\u001b[0m \u001b[0mself\u001b[0m\u001b[0;34m.\u001b[0m\u001b[0mobj\u001b[0m\u001b[0;34m[\u001b[0m\u001b[0mkey\u001b[0m\u001b[0;34m]\u001b[0m\u001b[0;34m\u001b[0m\u001b[0;34m\u001b[0m\u001b[0m\n\u001b[1;32m    250\u001b[0m             \u001b[0mndim\u001b[0m \u001b[0;34m=\u001b[0m \u001b[0msubset\u001b[0m\u001b[0;34m.\u001b[0m\u001b[0mndim\u001b[0m\u001b[0;34m\u001b[0m\u001b[0;34m\u001b[0m\u001b[0m\n",
            "\u001b[0;31mKeyError\u001b[0m: 'Column not found: casualities'"
          ]
        }
      ],
      "source": [
        "import pandas as pd\n",
        "import matplotlib.pyplot as plt\n",
        "\n",
        "# Group by borough and sum the number of casualties in each borough\n",
        "borough_casualties = collision_data.groupby('borough')['casualities'].sum()\n",
        "\n",
        "# Create a pie chart\n",
        "plt.figure(figsize=(8, 8))\n",
        "plt.pie(borough_casualties, labels=borough_casualties.index, autopct='%1.1f%%', startangle=140, colors=['lightcoral', 'lightskyblue', 'lightgreen', 'lightyellow', 'lightpink'])\n",
        "plt.title('Distribution of Casualties by Borough')\n",
        "plt.show()\n"
      ]
    },
    {
      "cell_type": "code",
      "source": [
        "collision_data.head(2)"
      ],
      "metadata": {
        "colab": {
          "base_uri": "https://localhost:8080/",
          "height": 112
        },
        "id": "KQkB2iGeKo4X",
        "outputId": "ae2716b9-f71a-4363-b195-f5a81464c619"
      },
      "execution_count": null,
      "outputs": [
        {
          "output_type": "execute_result",
          "data": {
            "text/plain": [
              "  borough   latitude  longitude  total_casualties\n",
              "0   BRONX   0.000000    0.00000          0.813804\n",
              "1   BRONX  40.799168  -73.91029          0.000000"
            ],
            "text/html": [
              "\n",
              "  <div id=\"df-a90125b9-95e3-4b0a-808a-7f9352bca091\" class=\"colab-df-container\">\n",
              "    <div>\n",
              "<style scoped>\n",
              "    .dataframe tbody tr th:only-of-type {\n",
              "        vertical-align: middle;\n",
              "    }\n",
              "\n",
              "    .dataframe tbody tr th {\n",
              "        vertical-align: top;\n",
              "    }\n",
              "\n",
              "    .dataframe thead th {\n",
              "        text-align: right;\n",
              "    }\n",
              "</style>\n",
              "<table border=\"1\" class=\"dataframe\">\n",
              "  <thead>\n",
              "    <tr style=\"text-align: right;\">\n",
              "      <th></th>\n",
              "      <th>borough</th>\n",
              "      <th>latitude</th>\n",
              "      <th>longitude</th>\n",
              "      <th>total_casualties</th>\n",
              "    </tr>\n",
              "  </thead>\n",
              "  <tbody>\n",
              "    <tr>\n",
              "      <th>0</th>\n",
              "      <td>BRONX</td>\n",
              "      <td>0.000000</td>\n",
              "      <td>0.00000</td>\n",
              "      <td>0.813804</td>\n",
              "    </tr>\n",
              "    <tr>\n",
              "      <th>1</th>\n",
              "      <td>BRONX</td>\n",
              "      <td>40.799168</td>\n",
              "      <td>-73.91029</td>\n",
              "      <td>0.000000</td>\n",
              "    </tr>\n",
              "  </tbody>\n",
              "</table>\n",
              "</div>\n",
              "    <div class=\"colab-df-buttons\">\n",
              "\n",
              "  <div class=\"colab-df-container\">\n",
              "    <button class=\"colab-df-convert\" onclick=\"convertToInteractive('df-a90125b9-95e3-4b0a-808a-7f9352bca091')\"\n",
              "            title=\"Convert this dataframe to an interactive table.\"\n",
              "            style=\"display:none;\">\n",
              "\n",
              "  <svg xmlns=\"http://www.w3.org/2000/svg\" height=\"24px\" viewBox=\"0 -960 960 960\">\n",
              "    <path d=\"M120-120v-720h720v720H120Zm60-500h600v-160H180v160Zm220 220h160v-160H400v160Zm0 220h160v-160H400v160ZM180-400h160v-160H180v160Zm440 0h160v-160H620v160ZM180-180h160v-160H180v160Zm440 0h160v-160H620v160Z\"/>\n",
              "  </svg>\n",
              "    </button>\n",
              "\n",
              "  <style>\n",
              "    .colab-df-container {\n",
              "      display:flex;\n",
              "      gap: 12px;\n",
              "    }\n",
              "\n",
              "    .colab-df-convert {\n",
              "      background-color: #E8F0FE;\n",
              "      border: none;\n",
              "      border-radius: 50%;\n",
              "      cursor: pointer;\n",
              "      display: none;\n",
              "      fill: #1967D2;\n",
              "      height: 32px;\n",
              "      padding: 0 0 0 0;\n",
              "      width: 32px;\n",
              "    }\n",
              "\n",
              "    .colab-df-convert:hover {\n",
              "      background-color: #E2EBFA;\n",
              "      box-shadow: 0px 1px 2px rgba(60, 64, 67, 0.3), 0px 1px 3px 1px rgba(60, 64, 67, 0.15);\n",
              "      fill: #174EA6;\n",
              "    }\n",
              "\n",
              "    .colab-df-buttons div {\n",
              "      margin-bottom: 4px;\n",
              "    }\n",
              "\n",
              "    [theme=dark] .colab-df-convert {\n",
              "      background-color: #3B4455;\n",
              "      fill: #D2E3FC;\n",
              "    }\n",
              "\n",
              "    [theme=dark] .colab-df-convert:hover {\n",
              "      background-color: #434B5C;\n",
              "      box-shadow: 0px 1px 3px 1px rgba(0, 0, 0, 0.15);\n",
              "      filter: drop-shadow(0px 1px 2px rgba(0, 0, 0, 0.3));\n",
              "      fill: #FFFFFF;\n",
              "    }\n",
              "  </style>\n",
              "\n",
              "    <script>\n",
              "      const buttonEl =\n",
              "        document.querySelector('#df-a90125b9-95e3-4b0a-808a-7f9352bca091 button.colab-df-convert');\n",
              "      buttonEl.style.display =\n",
              "        google.colab.kernel.accessAllowed ? 'block' : 'none';\n",
              "\n",
              "      async function convertToInteractive(key) {\n",
              "        const element = document.querySelector('#df-a90125b9-95e3-4b0a-808a-7f9352bca091');\n",
              "        const dataTable =\n",
              "          await google.colab.kernel.invokeFunction('convertToInteractive',\n",
              "                                                    [key], {});\n",
              "        if (!dataTable) return;\n",
              "\n",
              "        const docLinkHtml = 'Like what you see? Visit the ' +\n",
              "          '<a target=\"_blank\" href=https://colab.research.google.com/notebooks/data_table.ipynb>data table notebook</a>'\n",
              "          + ' to learn more about interactive tables.';\n",
              "        element.innerHTML = '';\n",
              "        dataTable['output_type'] = 'display_data';\n",
              "        await google.colab.output.renderOutput(dataTable, element);\n",
              "        const docLink = document.createElement('div');\n",
              "        docLink.innerHTML = docLinkHtml;\n",
              "        element.appendChild(docLink);\n",
              "      }\n",
              "    </script>\n",
              "  </div>\n",
              "\n",
              "\n",
              "<div id=\"df-c5c2bc2f-2696-4b98-9678-7b39141b2bc2\">\n",
              "  <button class=\"colab-df-quickchart\" onclick=\"quickchart('df-c5c2bc2f-2696-4b98-9678-7b39141b2bc2')\"\n",
              "            title=\"Suggest charts\"\n",
              "            style=\"display:none;\">\n",
              "\n",
              "<svg xmlns=\"http://www.w3.org/2000/svg\" height=\"24px\"viewBox=\"0 0 24 24\"\n",
              "     width=\"24px\">\n",
              "    <g>\n",
              "        <path d=\"M19 3H5c-1.1 0-2 .9-2 2v14c0 1.1.9 2 2 2h14c1.1 0 2-.9 2-2V5c0-1.1-.9-2-2-2zM9 17H7v-7h2v7zm4 0h-2V7h2v10zm4 0h-2v-4h2v4z\"/>\n",
              "    </g>\n",
              "</svg>\n",
              "  </button>\n",
              "\n",
              "<style>\n",
              "  .colab-df-quickchart {\n",
              "      --bg-color: #E8F0FE;\n",
              "      --fill-color: #1967D2;\n",
              "      --hover-bg-color: #E2EBFA;\n",
              "      --hover-fill-color: #174EA6;\n",
              "      --disabled-fill-color: #AAA;\n",
              "      --disabled-bg-color: #DDD;\n",
              "  }\n",
              "\n",
              "  [theme=dark] .colab-df-quickchart {\n",
              "      --bg-color: #3B4455;\n",
              "      --fill-color: #D2E3FC;\n",
              "      --hover-bg-color: #434B5C;\n",
              "      --hover-fill-color: #FFFFFF;\n",
              "      --disabled-bg-color: #3B4455;\n",
              "      --disabled-fill-color: #666;\n",
              "  }\n",
              "\n",
              "  .colab-df-quickchart {\n",
              "    background-color: var(--bg-color);\n",
              "    border: none;\n",
              "    border-radius: 50%;\n",
              "    cursor: pointer;\n",
              "    display: none;\n",
              "    fill: var(--fill-color);\n",
              "    height: 32px;\n",
              "    padding: 0;\n",
              "    width: 32px;\n",
              "  }\n",
              "\n",
              "  .colab-df-quickchart:hover {\n",
              "    background-color: var(--hover-bg-color);\n",
              "    box-shadow: 0 1px 2px rgba(60, 64, 67, 0.3), 0 1px 3px 1px rgba(60, 64, 67, 0.15);\n",
              "    fill: var(--button-hover-fill-color);\n",
              "  }\n",
              "\n",
              "  .colab-df-quickchart-complete:disabled,\n",
              "  .colab-df-quickchart-complete:disabled:hover {\n",
              "    background-color: var(--disabled-bg-color);\n",
              "    fill: var(--disabled-fill-color);\n",
              "    box-shadow: none;\n",
              "  }\n",
              "\n",
              "  .colab-df-spinner {\n",
              "    border: 2px solid var(--fill-color);\n",
              "    border-color: transparent;\n",
              "    border-bottom-color: var(--fill-color);\n",
              "    animation:\n",
              "      spin 1s steps(1) infinite;\n",
              "  }\n",
              "\n",
              "  @keyframes spin {\n",
              "    0% {\n",
              "      border-color: transparent;\n",
              "      border-bottom-color: var(--fill-color);\n",
              "      border-left-color: var(--fill-color);\n",
              "    }\n",
              "    20% {\n",
              "      border-color: transparent;\n",
              "      border-left-color: var(--fill-color);\n",
              "      border-top-color: var(--fill-color);\n",
              "    }\n",
              "    30% {\n",
              "      border-color: transparent;\n",
              "      border-left-color: var(--fill-color);\n",
              "      border-top-color: var(--fill-color);\n",
              "      border-right-color: var(--fill-color);\n",
              "    }\n",
              "    40% {\n",
              "      border-color: transparent;\n",
              "      border-right-color: var(--fill-color);\n",
              "      border-top-color: var(--fill-color);\n",
              "    }\n",
              "    60% {\n",
              "      border-color: transparent;\n",
              "      border-right-color: var(--fill-color);\n",
              "    }\n",
              "    80% {\n",
              "      border-color: transparent;\n",
              "      border-right-color: var(--fill-color);\n",
              "      border-bottom-color: var(--fill-color);\n",
              "    }\n",
              "    90% {\n",
              "      border-color: transparent;\n",
              "      border-bottom-color: var(--fill-color);\n",
              "    }\n",
              "  }\n",
              "</style>\n",
              "\n",
              "  <script>\n",
              "    async function quickchart(key) {\n",
              "      const quickchartButtonEl =\n",
              "        document.querySelector('#' + key + ' button');\n",
              "      quickchartButtonEl.disabled = true;  // To prevent multiple clicks.\n",
              "      quickchartButtonEl.classList.add('colab-df-spinner');\n",
              "      try {\n",
              "        const charts = await google.colab.kernel.invokeFunction(\n",
              "            'suggestCharts', [key], {});\n",
              "      } catch (error) {\n",
              "        console.error('Error during call to suggestCharts:', error);\n",
              "      }\n",
              "      quickchartButtonEl.classList.remove('colab-df-spinner');\n",
              "      quickchartButtonEl.classList.add('colab-df-quickchart-complete');\n",
              "    }\n",
              "    (() => {\n",
              "      let quickchartButtonEl =\n",
              "        document.querySelector('#df-c5c2bc2f-2696-4b98-9678-7b39141b2bc2 button');\n",
              "      quickchartButtonEl.style.display =\n",
              "        google.colab.kernel.accessAllowed ? 'block' : 'none';\n",
              "    })();\n",
              "  </script>\n",
              "</div>\n",
              "    </div>\n",
              "  </div>\n"
            ]
          },
          "metadata": {},
          "execution_count": 55
        }
      ]
    },
    {
      "cell_type": "code",
      "execution_count": null,
      "metadata": {
        "id": "Z6DWHW5HUB6D"
      },
      "outputs": [],
      "source": [
        "import pandas as pd\n",
        "import plotly.express as px\n",
        "\n",
        "fig = px.density_mapbox(collision_data, lat='latitude', lon='longitude', z='total_casualties',\n",
        "                        radius=10,  # Adjust the radius based on your preference\n",
        "                        center=dict(lat=collision_data['latitude'].mean(),\n",
        "                                    lon=collision_data['longitude'].mean()),\n",
        "                        zoom=10,\n",
        "                        labels={'total_casualities': 'Number of Casualties'},\n",
        "                        title='Collision Casualties Heatmap',\n",
        "                        mapbox_style='open-street-map')\n",
        "\n",
        "fig.write_html(\"collisions_heatmap.html\")\n"
      ]
    },
    {
      "cell_type": "code",
      "source": [
        "@app.route('/crash', methods=['GET'])\n",
        "def crash():\n",
        "   return render_template('crash.html')"
      ],
      "metadata": {
        "id": "k8Fco4uGto6M"
      },
      "execution_count": null,
      "outputs": []
    },
    {
      "cell_type": "markdown",
      "metadata": {
        "id": "H6cf5zrZwW1J"
      },
      "source": [
        "### Traffic Data Analysis"
      ]
    },
    {
      "cell_type": "code",
      "source": [
        "import pandas as pd\n",
        "import plotly.express as px\n",
        "\n",
        "# Assuming you have a valid traffic_data DataFrame\n",
        "# Replace 'your_latitude_column' and 'your_longitude_column' with the actual column names in your DataFrame\n",
        "\n",
        "# Set center coordinates to approximate New York City\n",
        "center_coordinates = {'lat': 40.7128, 'lon': -74.0060}\n",
        "\n",
        "# Create a density heatmap for collision data\n",
        "fig = px.density_mapbox(traffic_data, lat='latitude', lon='longitude', z='Average_volume',\n",
        "                        radius=7,  # Adjust the radius based on your preference\n",
        "                        center=center_coordinates,\n",
        "                        zoom=10,\n",
        "                        hover_data=['Roadway_Name', 'Average_volume'],\n",
        "                        labels={'Average_volume': 'Traffic Volume'},\n",
        "                        title='Traffic Volume Heatmap',\n",
        "                        mapbox_style='open-street-map')\n",
        "\n",
        "fig.show()\n"
      ],
      "metadata": {
        "id": "hHb0nD06PKGy",
        "outputId": "65665983-a2d2-4697-e500-bbe1d9d8d249",
        "colab": {
          "base_uri": "https://localhost:8080/",
          "height": 250
        }
      },
      "execution_count": null,
      "outputs": [
        {
          "output_type": "error",
          "ename": "NameError",
          "evalue": "ignored",
          "traceback": [
            "\u001b[0;31m---------------------------------------------------------------------------\u001b[0m",
            "\u001b[0;31mNameError\u001b[0m                                 Traceback (most recent call last)",
            "\u001b[0;32m<ipython-input-4-e6c5cceb15eb>\u001b[0m in \u001b[0;36m<cell line: 11>\u001b[0;34m()\u001b[0m\n\u001b[1;32m      9\u001b[0m \u001b[0;34m\u001b[0m\u001b[0m\n\u001b[1;32m     10\u001b[0m \u001b[0;31m# Create a density heatmap for collision data\u001b[0m\u001b[0;34m\u001b[0m\u001b[0;34m\u001b[0m\u001b[0m\n\u001b[0;32m---> 11\u001b[0;31m fig = px.density_mapbox(traffic_data, lat='latitude', lon='longitude', z='Average_volume',\n\u001b[0m\u001b[1;32m     12\u001b[0m                         \u001b[0mradius\u001b[0m\u001b[0;34m=\u001b[0m\u001b[0;36m7\u001b[0m\u001b[0;34m,\u001b[0m  \u001b[0;31m# Adjust the radius based on your preference\u001b[0m\u001b[0;34m\u001b[0m\u001b[0;34m\u001b[0m\u001b[0m\n\u001b[1;32m     13\u001b[0m                         \u001b[0mcenter\u001b[0m\u001b[0;34m=\u001b[0m\u001b[0mcenter_coordinates\u001b[0m\u001b[0;34m,\u001b[0m\u001b[0;34m\u001b[0m\u001b[0;34m\u001b[0m\u001b[0m\n",
            "\u001b[0;31mNameError\u001b[0m: name 'traffic_data' is not defined"
          ]
        }
      ]
    },
    {
      "cell_type": "code",
      "execution_count": null,
      "metadata": {
        "id": "i4hD9RxWbhEQ"
      },
      "outputs": [],
      "source": [
        "# include in website\n",
        "\n",
        "\n",
        "# Convert date string to datetime object\n",
        "traffic_data['datetime'] = pd.to_datetime(traffic_data['Date'], format='%Y-%m-%d')\n",
        "\n",
        "# Extract day of the week and set the order starting from Sunday\n",
        "days_order = ['Sunday', 'Monday', 'Tuesday', 'Wednesday', 'Thursday', 'Friday', 'Saturday']\n",
        "traffic_data['day_of_week'] = traffic_data['datetime'].dt.day_name()\n",
        "traffic_data['day_of_week'] = pd.Categorical(traffic_data['day_of_week'], categories=days_order, ordered=True)\n",
        "\n",
        "# Create a pivot table without hour information\n",
        "pivot_table = traffic_data.pivot_table(values='Average_volume', index='day_of_week', aggfunc='mean')\n",
        "\n",
        "# Create a horizontal bar plot\n",
        "plt.figure(figsize=(15, 7))\n",
        "sns.heatmap(pivot_table.T, cmap=\"YlGnBu\", annot=True, fmt=\".2f\", linewidths=.5, cbar_kws={'label': 'Average Traffic Volume'})\n",
        "plt.title('Heatmap of Average Traffic Volume by Day')\n",
        "plt.xlabel('Average Traffic Volume')\n",
        "plt.ylabel('Hour of the Day')\n",
        "plt.show()\n"
      ]
    },
    {
      "cell_type": "code",
      "execution_count": null,
      "metadata": {
        "id": "y0zAQKKYb9N5"
      },
      "outputs": [],
      "source": [
        "import pandas as pd\n",
        "import seaborn as sns\n",
        "import matplotlib.pyplot as plt\n",
        "\n",
        "# Assuming you have a valid traffic_data DataFrame\n",
        "# Replace 'From_St', 'To_St', 'Direction', 'Date', and other column names as needed\n",
        "\n",
        "# Example: Group by 'boro' and sum the 'Average_volume' for each borough\n",
        "borough_volume = traffic_data.groupby('borough')['Average_volume'].sum().reset_index()\n",
        "\n",
        "plt.figure(figsize=(12, 6))\n",
        "sns.barplot(x='borough', y='Average_volume', data=borough_volume)\n",
        "plt.title('Traffic Volume by Borough')\n",
        "plt.xlabel('Borough')\n",
        "plt.ylabel('Total Volume')\n",
        "plt.show()\n"
      ]
    },
    {
      "cell_type": "code",
      "execution_count": null,
      "metadata": {
        "id": "vQqK4mHBcBs4"
      },
      "outputs": [],
      "source": [
        "import matplotlib.pyplot as plt\n",
        "import seaborn as sns\n",
        "import pandas as pd\n",
        "\n",
        "# Assuming 'datetime' is the column containing the datetime information\n",
        "# Replace 'datetime' and 'Average_volume' with the actual column names in your DataFrame\n",
        "\n",
        "# Convert 'datetime' to datetime object if not already in datetime format\n",
        "traffic_data['datetime'] = pd.to_datetime(traffic_data['Date'])\n",
        "\n",
        "# Group by 'datetime' and sum the 'Average_volume' for each time point\n",
        "traffic_volume_trends = traffic_data.groupby('Date')['Average_volume'].sum().reset_index()\n",
        "\n",
        "# Plot traffic volume trends over time using a bar plot\n",
        "plt.figure(figsize=(12, 6))\n",
        "sns.barplot(x='Date', y='Average_volume', data=traffic_volume_trends)\n",
        "plt.title('Traffic Volume Trends Over Time')\n",
        "plt.xlabel('Time')\n",
        "plt.ylabel('Volume')\n",
        "\n",
        "# Set x-axis ticks with a total of 10 labels\n",
        "ticks_frequency = 20\n",
        "plt.xticks(range(0, len(traffic_volume_trends), ticks_frequency), traffic_volume_trends['Date'][::ticks_frequency], rotation=45, ha='right')\n",
        "\n",
        "plt.show()\n"
      ]
    },
    {
      "cell_type": "code",
      "execution_count": null,
      "metadata": {
        "id": "UwOP9rBncHKW"
      },
      "outputs": [],
      "source": [
        "import pandas as pd\n",
        "import seaborn as sns\n",
        "import matplotlib.pyplot as plt\n",
        "\n",
        "# Assuming you have a valid traffic_data DataFrame\n",
        "# Replace 'From_St', 'To_St', 'Direction', 'Date', and other column names as needed\n",
        "\n",
        "# Example: Group by 'Roadway_Name' and sum the 'Average_volume' for each street\n",
        "top_streets = traffic_data.groupby('Roadway_Name')['Average_volume'].sum().nlargest(10).reset_index()\n",
        "\n",
        "plt.figure(figsize=(12, 6))\n",
        "sns.barplot(x='Average_volume', y='Roadway_Name', data=top_streets, orient='h')  # orient='h' for horizontal bar plot\n",
        "plt.title('Top 10 Streets by Traffic Volume')\n",
        "plt.xlabel('Volume')\n",
        "plt.ylabel('Roadway Name')\n",
        "plt.show()\n"
      ]
    },
    {
      "cell_type": "code",
      "source": [
        "@app.route('/traffic', methods=['GET'])\n",
        "def traffic():\n",
        "   return render_template('traffic.html')"
      ],
      "metadata": {
        "id": "_EAZSjaStrQe"
      },
      "execution_count": null,
      "outputs": []
    }
  ],
  "metadata": {
    "colab": {
      "provenance": []
    },
    "kernelspec": {
      "display_name": "Python 3",
      "name": "python3"
    },
    "language_info": {
      "name": "python"
    }
  },
  "nbformat": 4,
  "nbformat_minor": 0
}